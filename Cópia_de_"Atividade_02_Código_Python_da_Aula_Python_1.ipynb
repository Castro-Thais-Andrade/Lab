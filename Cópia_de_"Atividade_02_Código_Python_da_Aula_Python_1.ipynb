{
  "nbformat": 4,
  "nbformat_minor": 0,
  "metadata": {
    "colab": {
      "name": "Cópia de \"Atividade 02 - Código Python da Aula Python 1.ipynb",
      "provenance": [],
      "collapsed_sections": [],
      "authorship_tag": "ABX9TyMx5yLfu2QS33xGkWGaaYhg",
      "include_colab_link": true
    },
    "kernelspec": {
      "name": "python3",
      "display_name": "Python 3"
    },
    "language_info": {
      "name": "python"
    }
  },
  "cells": [
    {
      "cell_type": "markdown",
      "metadata": {
        "id": "view-in-github",
        "colab_type": "text"
      },
      "source": [
        "<a href=\"https://colab.research.google.com/github/Castro-Thais-Andrade/Lab/blob/main/C%C3%B3pia_de_%22Atividade_02_C%C3%B3digo_Python_da_Aula_Python_1.ipynb\" target=\"_parent\"><img src=\"https://colab.research.google.com/assets/colab-badge.svg\" alt=\"Open In Colab\"/></a>"
      ]
    },
    {
      "cell_type": "code",
      "execution_count": null,
      "metadata": {
        "id": "6FKfFkrAzMfa"
      },
      "outputs": [],
      "source": [
        "a=10"
      ]
    },
    {
      "cell_type": "code",
      "source": [
        "print(type(a))"
      ],
      "metadata": {
        "colab": {
          "base_uri": "https://localhost:8080/"
        },
        "id": "DMA00DmW0RLY",
        "outputId": "03c7d127-ebf2-4a72-c1bc-af5eb2a9c2e5"
      },
      "execution_count": null,
      "outputs": [
        {
          "output_type": "stream",
          "name": "stdout",
          "text": [
            "<class 'int'>\n"
          ]
        }
      ]
    },
    {
      "cell_type": "code",
      "source": [
        "a=9.5"
      ],
      "metadata": {
        "id": "sQXIa6QA0fb-"
      },
      "execution_count": null,
      "outputs": []
    },
    {
      "cell_type": "code",
      "source": [
        "print(a)"
      ],
      "metadata": {
        "colab": {
          "base_uri": "https://localhost:8080/"
        },
        "id": "nqt_ekF20inJ",
        "outputId": "a4f4dc1b-9190-4d7f-ade6-05c6fce7a2b4"
      },
      "execution_count": null,
      "outputs": [
        {
          "output_type": "stream",
          "name": "stdout",
          "text": [
            "9.5\n"
          ]
        }
      ]
    },
    {
      "cell_type": "code",
      "source": [
        "print(type(a))"
      ],
      "metadata": {
        "colab": {
          "base_uri": "https://localhost:8080/"
        },
        "id": "ho5jvJOA0lHZ",
        "outputId": "d1544a90-8065-43f0-8c3f-02339717312d"
      },
      "execution_count": null,
      "outputs": [
        {
          "output_type": "stream",
          "name": "stdout",
          "text": [
            "<class 'float'>\n"
          ]
        }
      ]
    },
    {
      "cell_type": "markdown",
      "source": [
        "###strings"
      ],
      "metadata": {
        "id": "00iZxqcO1NBe"
      }
    },
    {
      "cell_type": "code",
      "source": [
        "a=\"hello\\nworld\""
      ],
      "metadata": {
        "id": "Xktyd3m-1Oe2"
      },
      "execution_count": null,
      "outputs": []
    },
    {
      "cell_type": "code",
      "source": [
        "print(a)"
      ],
      "metadata": {
        "colab": {
          "base_uri": "https://localhost:8080/"
        },
        "id": "Pmg39r0b2kC3",
        "outputId": "aa7ed56d-a95b-4a37-a49e-8986f45124fa"
      },
      "execution_count": null,
      "outputs": [
        {
          "output_type": "stream",
          "name": "stdout",
          "text": [
            "hello\n",
            "word\n"
          ]
        }
      ]
    },
    {
      "cell_type": "code",
      "source": [
        "print(len(a))"
      ],
      "metadata": {
        "colab": {
          "base_uri": "https://localhost:8080/"
        },
        "id": "9-ieWF0H2lxG",
        "outputId": "3dcb33ec-7518-4bda-e24f-b5eee7162c61"
      },
      "execution_count": null,
      "outputs": [
        {
          "output_type": "stream",
          "name": "stdout",
          "text": [
            "11\n"
          ]
        }
      ]
    },
    {
      "cell_type": "code",
      "source": [
        "a=\"hello\\nworld\""
      ],
      "metadata": {
        "id": "heYou8W_4aNR"
      },
      "execution_count": null,
      "outputs": []
    },
    {
      "cell_type": "code",
      "source": [
        "print(a[0]+a[8]+a[5]+a[-1]+a[-3])"
      ],
      "metadata": {
        "colab": {
          "base_uri": "https://localhost:8080/"
        },
        "id": "9XOIJ7lQ4jdB",
        "outputId": "08baff11-e683-4ef3-8a27-d6736134e3c7"
      },
      "execution_count": null,
      "outputs": [
        {
          "output_type": "stream",
          "name": "stdout",
          "text": [
            "hr\n",
            "do\n"
          ]
        }
      ]
    },
    {
      "cell_type": "code",
      "source": [
        "a=\"abcdefghijk\""
      ],
      "metadata": {
        "id": "xDZQYvsY5Jto"
      },
      "execution_count": null,
      "outputs": []
    },
    {
      "cell_type": "code",
      "source": [
        "print(a[2:])"
      ],
      "metadata": {
        "colab": {
          "base_uri": "https://localhost:8080/"
        },
        "id": "uL25dBKh5uTJ",
        "outputId": "2a22da1f-7131-42e4-d427-d7bf5a6b4d0f"
      },
      "execution_count": null,
      "outputs": [
        {
          "output_type": "stream",
          "name": "stdout",
          "text": [
            "cdefghijk\n"
          ]
        }
      ]
    },
    {
      "cell_type": "code",
      "source": [
        "print(a[6:10])"
      ],
      "metadata": {
        "colab": {
          "base_uri": "https://localhost:8080/"
        },
        "id": "0tA1ku5R52B-",
        "outputId": "dc436b4f-4f66-4412-92d1-2eb837c0cf84"
      },
      "execution_count": null,
      "outputs": [
        {
          "output_type": "stream",
          "name": "stdout",
          "text": [
            "ghij\n"
          ]
        }
      ]
    },
    {
      "cell_type": "code",
      "source": [
        "print(a[::2])"
      ],
      "metadata": {
        "colab": {
          "base_uri": "https://localhost:8080/"
        },
        "id": "utuRJJwU6GrV",
        "outputId": "6ede2fd8-52d2-4541-b9bf-3953a2b9ffd3"
      },
      "execution_count": null,
      "outputs": [
        {
          "output_type": "stream",
          "name": "stdout",
          "text": [
            "acegik\n"
          ]
        }
      ]
    },
    {
      "cell_type": "code",
      "source": [
        "print(a[::3])"
      ],
      "metadata": {
        "colab": {
          "base_uri": "https://localhost:8080/"
        },
        "id": "xojXWFB66L-P",
        "outputId": "fafade4a-19ab-4334-b648-ecf1a917c906"
      },
      "execution_count": null,
      "outputs": [
        {
          "output_type": "stream",
          "name": "stdout",
          "text": [
            "adgj\n"
          ]
        }
      ]
    },
    {
      "cell_type": "code",
      "source": [
        "print(a[2:7:2])"
      ],
      "metadata": {
        "colab": {
          "base_uri": "https://localhost:8080/"
        },
        "id": "RxRxqyVx6WIw",
        "outputId": "f6e97119-4d05-4c4e-8a3a-ba65ec9ad10a"
      },
      "execution_count": null,
      "outputs": [
        {
          "output_type": "stream",
          "name": "stdout",
          "text": [
            "ceg\n"
          ]
        }
      ]
    },
    {
      "cell_type": "code",
      "source": [
        "print(a[::-1])"
      ],
      "metadata": {
        "colab": {
          "base_uri": "https://localhost:8080/"
        },
        "id": "Cttb4rCf6w5V",
        "outputId": "4a856075-92ef-47a4-a3bd-d20f191d4b32"
      },
      "execution_count": null,
      "outputs": [
        {
          "output_type": "stream",
          "name": "stdout",
          "text": [
            "kjihgfedcba\n"
          ]
        }
      ]
    },
    {
      "cell_type": "code",
      "source": [
        "name= \"sam\""
      ],
      "metadata": {
        "id": "NA28VVhV67y5"
      },
      "execution_count": null,
      "outputs": []
    },
    {
      "cell_type": "code",
      "source": [
        "name[0] = 'p'"
      ],
      "metadata": {
        "colab": {
          "base_uri": "https://localhost:8080/",
          "height": 167
        },
        "id": "N4w49I9h7iQp",
        "outputId": "9eab7b09-d7b4-4ee4-9cc0-e226bac2f283"
      },
      "execution_count": null,
      "outputs": [
        {
          "output_type": "error",
          "ename": "TypeError",
          "evalue": "ignored",
          "traceback": [
            "\u001b[0;31m---------------------------------------------------------------------------\u001b[0m",
            "\u001b[0;31mTypeError\u001b[0m                                 Traceback (most recent call last)",
            "\u001b[0;32m<ipython-input-39-3856869c5d2d>\u001b[0m in \u001b[0;36m<module>\u001b[0;34m()\u001b[0m\n\u001b[0;32m----> 1\u001b[0;31m \u001b[0mname\u001b[0m\u001b[0;34m[\u001b[0m\u001b[0;36m0\u001b[0m\u001b[0;34m]\u001b[0m \u001b[0;34m=\u001b[0m \u001b[0;34m'p'\u001b[0m\u001b[0;34m\u001b[0m\u001b[0;34m\u001b[0m\u001b[0m\n\u001b[0m",
            "\u001b[0;31mTypeError\u001b[0m: 'str' object does not support item assignment"
          ]
        }
      ]
    },
    {
      "cell_type": "code",
      "source": [
        "a= \"hello\""
      ],
      "metadata": {
        "id": "eu82qU6I75iX"
      },
      "execution_count": null,
      "outputs": []
    },
    {
      "cell_type": "code",
      "source": [
        "b=\"\\n\""
      ],
      "metadata": {
        "id": "k6j5k2wg8NMS"
      },
      "execution_count": null,
      "outputs": []
    },
    {
      "cell_type": "code",
      "source": [
        "c=\"world\""
      ],
      "metadata": {
        "id": "z-1_sqKd8amt"
      },
      "execution_count": null,
      "outputs": []
    },
    {
      "cell_type": "code",
      "source": [
        "d =a+b+c"
      ],
      "metadata": {
        "id": "8hMy918K8iYy"
      },
      "execution_count": null,
      "outputs": []
    },
    {
      "cell_type": "code",
      "source": [
        "print(d)"
      ],
      "metadata": {
        "colab": {
          "base_uri": "https://localhost:8080/"
        },
        "id": "epf9dphC8oQB",
        "outputId": "a03442cf-0571-4df5-acba-2093ef0301d5"
      },
      "execution_count": null,
      "outputs": [
        {
          "output_type": "stream",
          "name": "stdout",
          "text": [
            "hello\n",
            "world\n"
          ]
        }
      ]
    },
    {
      "cell_type": "code",
      "source": [
        "a= \"sam\""
      ],
      "metadata": {
        "id": "RPIo8hla8rLZ"
      },
      "execution_count": null,
      "outputs": []
    },
    {
      "cell_type": "code",
      "source": [
        "b = \"p\" + a[1:]"
      ],
      "metadata": {
        "id": "4r0Jcpja9B4R"
      },
      "execution_count": null,
      "outputs": []
    },
    {
      "cell_type": "code",
      "source": [
        "print(b)"
      ],
      "metadata": {
        "colab": {
          "base_uri": "https://localhost:8080/"
        },
        "id": "I4R2iXue9N_u",
        "outputId": "004b91a5-b117-4d47-ef17-a4a4dc4f138e"
      },
      "execution_count": null,
      "outputs": [
        {
          "output_type": "stream",
          "name": "stdout",
          "text": [
            "pam\n"
          ]
        }
      ]
    },
    {
      "cell_type": "code",
      "source": [
        "b= b+b"
      ],
      "metadata": {
        "id": "dDTVhvOg9PGC"
      },
      "execution_count": null,
      "outputs": []
    },
    {
      "cell_type": "code",
      "source": [
        "print(b)"
      ],
      "metadata": {
        "colab": {
          "base_uri": "https://localhost:8080/"
        },
        "id": "XanhtUo69nm6",
        "outputId": "4c686f67-9805-450e-b127-ee65754f2fc3"
      },
      "execution_count": null,
      "outputs": [
        {
          "output_type": "stream",
          "name": "stdout",
          "text": [
            "pampam\n"
          ]
        }
      ]
    },
    {
      "cell_type": "code",
      "source": [
        "b= b+b+b"
      ],
      "metadata": {
        "id": "CSjcqVs_9pj-"
      },
      "execution_count": null,
      "outputs": []
    },
    {
      "cell_type": "code",
      "source": [
        "print(b)"
      ],
      "metadata": {
        "colab": {
          "base_uri": "https://localhost:8080/"
        },
        "id": "WYrJwyHP9uGg",
        "outputId": "d35a6b97-6f67-4ef7-cffa-047841c2e558"
      },
      "execution_count": null,
      "outputs": [
        {
          "output_type": "stream",
          "name": "stdout",
          "text": [
            "pampampampampampam\n"
          ]
        }
      ]
    },
    {
      "cell_type": "code",
      "source": [
        "b= 5*b"
      ],
      "metadata": {
        "id": "ZkSaM__q9wUI"
      },
      "execution_count": null,
      "outputs": []
    },
    {
      "cell_type": "code",
      "source": [
        "print(b)"
      ],
      "metadata": {
        "colab": {
          "base_uri": "https://localhost:8080/"
        },
        "id": "UCh2mKbi92hd",
        "outputId": "89a2bcdc-f501-4d2f-ce8c-1d806f0fac64"
      },
      "execution_count": null,
      "outputs": [
        {
          "output_type": "stream",
          "name": "stdout",
          "text": [
            "pampampampampampampampampampampampampampampampampampampampampampampampampampampampampampam\n"
          ]
        }
      ]
    },
    {
      "cell_type": "code",
      "source": [
        "a= \"essa é uma string\""
      ],
      "metadata": {
        "id": "wv-NsdoW93vy"
      },
      "execution_count": null,
      "outputs": []
    },
    {
      "cell_type": "code",
      "source": [
        "b=a.split() "
      ],
      "metadata": {
        "id": "UlsSVJm0-IUy"
      },
      "execution_count": null,
      "outputs": []
    },
    {
      "cell_type": "code",
      "source": [
        "print(b)"
      ],
      "metadata": {
        "colab": {
          "base_uri": "https://localhost:8080/"
        },
        "id": "EHKFQs-x-doX",
        "outputId": "476550dc-b2c0-4577-9e50-6fb7e5040eff"
      },
      "execution_count": null,
      "outputs": [
        {
          "output_type": "stream",
          "name": "stdout",
          "text": [
            "['essa', 'é', 'uma', 'string']\n"
          ]
        }
      ]
    },
    {
      "cell_type": "code",
      "source": [
        "print(b[0]+b[1]+b[2]+b[3])"
      ],
      "metadata": {
        "colab": {
          "base_uri": "https://localhost:8080/"
        },
        "id": "ZNvAmXYI-fvw",
        "outputId": "812f8500-7a50-4d32-d2ef-44466d3059e5"
      },
      "execution_count": null,
      "outputs": [
        {
          "output_type": "stream",
          "name": "stdout",
          "text": [
            "essaéumastring\n"
          ]
        }
      ]
    },
    {
      "cell_type": "code",
      "source": [
        "b=a.split(\"a\")"
      ],
      "metadata": {
        "id": "x1t2xEZF-2LB"
      },
      "execution_count": null,
      "outputs": []
    },
    {
      "cell_type": "code",
      "source": [
        "print(b)"
      ],
      "metadata": {
        "colab": {
          "base_uri": "https://localhost:8080/"
        },
        "id": "DT_js9PM_Bwg",
        "outputId": "4da8716a-ceff-4fe4-e5bc-30474542bfde"
      },
      "execution_count": null,
      "outputs": [
        {
          "output_type": "stream",
          "name": "stdout",
          "text": [
            "['ess', ' é um', ' string']\n"
          ]
        }
      ]
    },
    {
      "cell_type": "code",
      "source": [
        "print(b[0]+b[1]+b[2])"
      ],
      "metadata": {
        "colab": {
          "base_uri": "https://localhost:8080/"
        },
        "id": "a5VlPg29_C1u",
        "outputId": "92150d46-18a1-4fb8-de6c-55e2455c43a9"
      },
      "execution_count": null,
      "outputs": [
        {
          "output_type": "stream",
          "name": "stdout",
          "text": [
            "ess é um string\n"
          ]
        }
      ]
    },
    {
      "cell_type": "code",
      "source": [
        "c=b[0]"
      ],
      "metadata": {
        "id": "loDE-kFQ_ZW6"
      },
      "execution_count": null,
      "outputs": []
    },
    {
      "cell_type": "code",
      "source": [
        "print(c)"
      ],
      "metadata": {
        "colab": {
          "base_uri": "https://localhost:8080/"
        },
        "id": "LUllVPIJ_iDB",
        "outputId": "37c35cbb-9fa8-402e-9be1-223665440655"
      },
      "execution_count": null,
      "outputs": [
        {
          "output_type": "stream",
          "name": "stdout",
          "text": [
            "ess\n"
          ]
        }
      ]
    },
    {
      "cell_type": "code",
      "source": [
        "print(c[0]+c[1]+c[2])"
      ],
      "metadata": {
        "colab": {
          "base_uri": "https://localhost:8080/"
        },
        "id": "o6oZUJ0x_kn6",
        "outputId": "236030dc-fafa-45ed-844a-df8d3b885cbd"
      },
      "execution_count": null,
      "outputs": [
        {
          "output_type": "stream",
          "name": "stdout",
          "text": [
            "ess\n"
          ]
        }
      ]
    },
    {
      "cell_type": "code",
      "source": [
        "a=\"essa é uma mensagem: {} {} {}\""
      ],
      "metadata": {
        "id": "nCILd1Ji_2Na"
      },
      "execution_count": null,
      "outputs": []
    },
    {
      "cell_type": "code",
      "source": [
        "msg0=\"aviso 0\""
      ],
      "metadata": {
        "id": "s6F05JO9AebS"
      },
      "execution_count": null,
      "outputs": []
    },
    {
      "cell_type": "code",
      "source": [
        "msg1= \"aviso 1\""
      ],
      "metadata": {
        "id": "RPC3quNfAiZI"
      },
      "execution_count": null,
      "outputs": []
    },
    {
      "cell_type": "code",
      "source": [
        "msg2= \"aviso 2\""
      ],
      "metadata": {
        "id": "0w9rmobCA1vP"
      },
      "execution_count": null,
      "outputs": []
    },
    {
      "cell_type": "code",
      "source": [
        "print(a.format(msg0, msg1, msg2))"
      ],
      "metadata": {
        "colab": {
          "base_uri": "https://localhost:8080/"
        },
        "id": "GTULx-t3A5xu",
        "outputId": "dc3b7170-15ba-48a5-d6a7-3d4a827b6825"
      },
      "execution_count": null,
      "outputs": [
        {
          "output_type": "stream",
          "name": "stdout",
          "text": [
            "essa é uma mensagem: aviso 0 aviso 1 aviso 2\n"
          ]
        }
      ]
    },
    {
      "cell_type": "code",
      "source": [
        "b=a.format(msg0,msg1,msg2)"
      ],
      "metadata": {
        "id": "6gQL9kO1BJcu"
      },
      "execution_count": null,
      "outputs": []
    },
    {
      "cell_type": "code",
      "source": [
        "print(b)"
      ],
      "metadata": {
        "colab": {
          "base_uri": "https://localhost:8080/"
        },
        "id": "pIbM0mp1BUzy",
        "outputId": "267fb1f1-60ad-400f-90e0-f5b26f014eed"
      },
      "execution_count": null,
      "outputs": [
        {
          "output_type": "stream",
          "name": "stdout",
          "text": [
            "essa é uma mensagem: aviso 0 aviso 1 aviso 2\n"
          ]
        }
      ]
    },
    {
      "cell_type": "code",
      "source": [
        "a=\"essa é uma mensagem: {2} {0} {1}\""
      ],
      "metadata": {
        "id": "GnwkwU9nBW5i"
      },
      "execution_count": null,
      "outputs": []
    },
    {
      "cell_type": "code",
      "source": [
        "msg0=\"aviso 0\""
      ],
      "metadata": {
        "id": "9HhRwj7KBrPs"
      },
      "execution_count": null,
      "outputs": []
    },
    {
      "cell_type": "code",
      "source": [
        "msg1=\"aviso 1\""
      ],
      "metadata": {
        "id": "S0qBoITTBvdO"
      },
      "execution_count": null,
      "outputs": []
    },
    {
      "cell_type": "code",
      "source": [
        "msg2= \"aviso 2\""
      ],
      "metadata": {
        "id": "9w6QhxhDB-0K"
      },
      "execution_count": null,
      "outputs": []
    },
    {
      "cell_type": "code",
      "source": [
        "b=a.format(msg0,msg2,msg1)"
      ],
      "metadata": {
        "id": "q3krcyf5CIFw"
      },
      "execution_count": null,
      "outputs": []
    },
    {
      "cell_type": "code",
      "source": [
        "print(b)"
      ],
      "metadata": {
        "colab": {
          "base_uri": "https://localhost:8080/"
        },
        "id": "0NJblMp-CYb5",
        "outputId": "a290f983-e50a-4624-b132-c14f90f00f21"
      },
      "execution_count": null,
      "outputs": [
        {
          "output_type": "stream",
          "name": "stdout",
          "text": [
            "essa é uma mensagem: aviso 1 aviso 0 aviso 2\n"
          ]
        }
      ]
    },
    {
      "cell_type": "code",
      "source": [
        "resultado= 100/777"
      ],
      "metadata": {
        "id": "-yZ36hvtCaVx"
      },
      "execution_count": null,
      "outputs": []
    },
    {
      "cell_type": "code",
      "source": [
        "print(resultado)"
      ],
      "metadata": {
        "colab": {
          "base_uri": "https://localhost:8080/"
        },
        "id": "HTrLK207CjTJ",
        "outputId": "ec26c9b7-12c7-418d-e46b-8d1d8c12b07b"
      },
      "execution_count": null,
      "outputs": [
        {
          "output_type": "stream",
          "name": "stdout",
          "text": [
            "0.1287001287001287\n"
          ]
        }
      ]
    },
    {
      "cell_type": "code",
      "source": [
        "print(\"o resultado foi: {r:15.4f}\".format(r=resultado))"
      ],
      "metadata": {
        "colab": {
          "base_uri": "https://localhost:8080/"
        },
        "id": "DWTQc52bCnqa",
        "outputId": "2da4656a-c6c3-4eb2-ebc5-bdbdfba5c08c"
      },
      "execution_count": null,
      "outputs": [
        {
          "output_type": "stream",
          "name": "stdout",
          "text": [
            "o resultado foi:          0.1287\n"
          ]
        }
      ]
    },
    {
      "cell_type": "code",
      "source": [
        "nome=\"professor Max\""
      ],
      "metadata": {
        "id": "Zcf2rAn6DOGR"
      },
      "execution_count": null,
      "outputs": []
    },
    {
      "cell_type": "code",
      "source": [
        "print(f\"o nome dele é: {nome}\")"
      ],
      "metadata": {
        "colab": {
          "base_uri": "https://localhost:8080/"
        },
        "id": "ILVN1njKDp1y",
        "outputId": "d739a21c-9f13-4a21-efbb-b0542cb5fde6"
      },
      "execution_count": null,
      "outputs": [
        {
          "output_type": "stream",
          "name": "stdout",
          "text": [
            "o nome dele é: professor Max\n"
          ]
        }
      ]
    },
    {
      "cell_type": "code",
      "source": [
        "idade=30"
      ],
      "metadata": {
        "id": "9CTGRfINEZSJ"
      },
      "execution_count": null,
      "outputs": []
    },
    {
      "cell_type": "code",
      "source": [
        "print(f\" o nome dele é: {nome} e sua é {idade}\")"
      ],
      "metadata": {
        "colab": {
          "base_uri": "https://localhost:8080/"
        },
        "id": "Z49pHWHMEdjZ",
        "outputId": "b4a6b591-34d2-490b-f2c7-68cc7e003cdc"
      },
      "execution_count": null,
      "outputs": [
        {
          "output_type": "stream",
          "name": "stdout",
          "text": [
            " o nome dele é: professor Max e sua é 30\n"
          ]
        }
      ]
    },
    {
      "cell_type": "markdown",
      "source": [
        "###listas"
      ],
      "metadata": {
        "id": "qVgR7-pAFekT"
      }
    },
    {
      "cell_type": "code",
      "source": [
        "lista=[1, \"dois\", 3.0, \"d\"]"
      ],
      "metadata": {
        "id": "wLqD_23kFhD1"
      },
      "execution_count": null,
      "outputs": []
    },
    {
      "cell_type": "code",
      "source": [
        "print(lista)"
      ],
      "metadata": {
        "colab": {
          "base_uri": "https://localhost:8080/"
        },
        "id": "IIEJ-x4rF3Ly",
        "outputId": "a9014704-a981-4e35-afb7-b754dfb42af3"
      },
      "execution_count": null,
      "outputs": [
        {
          "output_type": "stream",
          "name": "stdout",
          "text": [
            "[1, 'dois', 3.0, 'd']\n"
          ]
        }
      ]
    },
    {
      "cell_type": "code",
      "source": [
        "print(lista[0])"
      ],
      "metadata": {
        "colab": {
          "base_uri": "https://localhost:8080/"
        },
        "id": "hAenPKSvF63Z",
        "outputId": "e46c965e-e63e-4382-f522-f44d040bcd07"
      },
      "execution_count": null,
      "outputs": [
        {
          "output_type": "stream",
          "name": "stdout",
          "text": [
            "1\n"
          ]
        }
      ]
    },
    {
      "cell_type": "code",
      "source": [
        "print(lista[1])"
      ],
      "metadata": {
        "colab": {
          "base_uri": "https://localhost:8080/"
        },
        "id": "4DL68HxsGDHl",
        "outputId": "fb3804b9-7ca0-4a79-9baf-17b98f308ac3"
      },
      "execution_count": null,
      "outputs": [
        {
          "output_type": "stream",
          "name": "stdout",
          "text": [
            "dois\n"
          ]
        }
      ]
    },
    {
      "cell_type": "code",
      "source": [
        "print(lista[2])"
      ],
      "metadata": {
        "colab": {
          "base_uri": "https://localhost:8080/"
        },
        "id": "g64kM6IiGJBB",
        "outputId": "dfad9365-1fe4-495d-f3ec-b4c01e8aecce"
      },
      "execution_count": null,
      "outputs": [
        {
          "output_type": "stream",
          "name": "stdout",
          "text": [
            "3.0\n"
          ]
        }
      ]
    },
    {
      "cell_type": "code",
      "source": [
        "print(lista[3])"
      ],
      "metadata": {
        "colab": {
          "base_uri": "https://localhost:8080/"
        },
        "id": "Bhdq4c8yGOyi",
        "outputId": "922319b3-f25e-4335-cf2e-b82fd38d4854"
      },
      "execution_count": null,
      "outputs": [
        {
          "output_type": "stream",
          "name": "stdout",
          "text": [
            "d\n"
          ]
        }
      ]
    },
    {
      "cell_type": "code",
      "source": [
        "lista[1]=\"DOIS\""
      ],
      "metadata": {
        "id": "kB_3nM0oGRyJ"
      },
      "execution_count": null,
      "outputs": []
    },
    {
      "cell_type": "code",
      "source": [
        "print(lista)"
      ],
      "metadata": {
        "colab": {
          "base_uri": "https://localhost:8080/"
        },
        "id": "eB37z-4IGb-B",
        "outputId": "692b770b-6717-4ffc-8abd-33f3766078cc"
      },
      "execution_count": null,
      "outputs": [
        {
          "output_type": "stream",
          "name": "stdout",
          "text": [
            "[1, 'DOIS', 3.0, 'd']\n"
          ]
        }
      ]
    },
    {
      "cell_type": "code",
      "source": [
        "lista[0]=lista[0]+5"
      ],
      "metadata": {
        "id": "kwFgmePwGgYG"
      },
      "execution_count": null,
      "outputs": []
    },
    {
      "cell_type": "code",
      "source": [
        "print(lista)"
      ],
      "metadata": {
        "colab": {
          "base_uri": "https://localhost:8080/"
        },
        "id": "-PG7lLTOGu0I",
        "outputId": "62ae9584-f404-46f4-9d22-234c0a9e34a5"
      },
      "execution_count": null,
      "outputs": [
        {
          "output_type": "stream",
          "name": "stdout",
          "text": [
            "[6, 'DOIS', 3.0, 'd']\n"
          ]
        }
      ]
    },
    {
      "cell_type": "code",
      "source": [
        "lista[2]=lista[2]/2"
      ],
      "metadata": {
        "id": "h7Gb1HCjG2VD"
      },
      "execution_count": null,
      "outputs": []
    },
    {
      "cell_type": "code",
      "source": [
        "print(lista)"
      ],
      "metadata": {
        "colab": {
          "base_uri": "https://localhost:8080/"
        },
        "id": "nqvE4CQDHCqk",
        "outputId": "41814f6f-d40a-4f5d-9941-b7787596564e"
      },
      "execution_count": null,
      "outputs": [
        {
          "output_type": "stream",
          "name": "stdout",
          "text": [
            "[6, 'DOIS', 1.5, 'd']\n"
          ]
        }
      ]
    },
    {
      "cell_type": "code",
      "source": [
        "lista=[1, \"dois\", 3.0, \"d\"]\n",
        "lista.append(\"XX\")\n",
        "print(lista)\n",
        "lista.append(88)\n",
        "print(lista)\n",
        "lista.pop()\n",
        "ultimo=lista.pop()\n",
        "print(lista)\n",
        "print(ultimo)\n",
        "lista.pop(1)\n",
        "print(lista)"
      ],
      "metadata": {
        "colab": {
          "base_uri": "https://localhost:8080/"
        },
        "id": "_RFSDuMpONbZ",
        "outputId": "1116e54e-6b81-4b7f-89a2-9cc9b5c261f9"
      },
      "execution_count": null,
      "outputs": [
        {
          "output_type": "stream",
          "name": "stdout",
          "text": [
            "[1, 'dois', 3.0, 'd', 'XX']\n",
            "[1, 'dois', 3.0, 'd', 'XX', 88]\n",
            "[1, 'dois', 3.0, 'd']\n",
            "XX\n",
            "[1, 3.0, 'd']\n"
          ]
        }
      ]
    },
    {
      "cell_type": "code",
      "source": [
        "lista=[5,1,3,8,4,2.5,2,3.6]\n",
        "print(lista)\n",
        "lista.sort()\n",
        "print(lista)\n",
        "lista=[\"k\", \"b\", \"d\", \"j\"]\n",
        "print(lista)\n",
        "lista.sort()\n",
        "print(lista)\n",
        "lista=[5,1,\"k\",\"c\", 4,2.5,\"g\",3.6]\n",
        "print(lista)\n",
        "lista.sort()\n",
        "print(lista)\n"
      ],
      "metadata": {
        "id": "j8E9tQ81SKa2",
        "outputId": "9ae9dc8e-0d4b-47f0-a590-042bbb92b4c5",
        "colab": {
          "base_uri": "https://localhost:8080/",
          "height": 304
        }
      },
      "execution_count": null,
      "outputs": [
        {
          "output_type": "stream",
          "name": "stdout",
          "text": [
            "[5, 1, 3, 8, 4, 2.5, 2, 3.6]\n",
            "[1, 2, 2.5, 3, 3.6, 4, 5, 8]\n",
            "['k', 'b', 'd', 'j']\n",
            "['b', 'd', 'j', 'k']\n",
            "[5, 1, 'k', 'c', 4, 2.5, 'g', 3.6]\n"
          ]
        },
        {
          "output_type": "error",
          "ename": "TypeError",
          "evalue": "ignored",
          "traceback": [
            "\u001b[0;31m---------------------------------------------------------------------------\u001b[0m",
            "\u001b[0;31mTypeError\u001b[0m                                 Traceback (most recent call last)",
            "\u001b[0;32m<ipython-input-22-b329b1367c5d>\u001b[0m in \u001b[0;36m<module>\u001b[0;34m()\u001b[0m\n\u001b[1;32m      9\u001b[0m \u001b[0mlista\u001b[0m\u001b[0;34m=\u001b[0m\u001b[0;34m[\u001b[0m\u001b[0;36m5\u001b[0m\u001b[0;34m,\u001b[0m \u001b[0;36m1\u001b[0m\u001b[0;34m,\u001b[0m\u001b[0;34m\"k\"\u001b[0m\u001b[0;34m,\u001b[0m \u001b[0;34m\"c\"\u001b[0m\u001b[0;34m,\u001b[0m \u001b[0;36m4\u001b[0m\u001b[0;34m,\u001b[0m \u001b[0;36m2.5\u001b[0m\u001b[0;34m,\u001b[0m \u001b[0;34m\"g\"\u001b[0m\u001b[0;34m,\u001b[0m \u001b[0;36m3.6\u001b[0m\u001b[0;34m]\u001b[0m\u001b[0;34m\u001b[0m\u001b[0;34m\u001b[0m\u001b[0m\n\u001b[1;32m     10\u001b[0m \u001b[0mprint\u001b[0m\u001b[0;34m(\u001b[0m\u001b[0mlista\u001b[0m\u001b[0;34m)\u001b[0m\u001b[0;34m\u001b[0m\u001b[0;34m\u001b[0m\u001b[0m\n\u001b[0;32m---> 11\u001b[0;31m \u001b[0mlista\u001b[0m\u001b[0;34m.\u001b[0m\u001b[0msort\u001b[0m\u001b[0;34m(\u001b[0m\u001b[0;34m)\u001b[0m\u001b[0;34m\u001b[0m\u001b[0;34m\u001b[0m\u001b[0m\n\u001b[0m\u001b[1;32m     12\u001b[0m \u001b[0mprint\u001b[0m\u001b[0;34m(\u001b[0m\u001b[0mlista\u001b[0m\u001b[0;34m)\u001b[0m\u001b[0;34m\u001b[0m\u001b[0;34m\u001b[0m\u001b[0m\n",
            "\u001b[0;31mTypeError\u001b[0m: '<' not supported between instances of 'str' and 'int'"
          ]
        }
      ]
    },
    {
      "cell_type": "code",
      "source": [
        "lista=[5,1,3,8,4,2.5,2,3.6]\n",
        "print(lista)\n",
        "lista.reverse()\n",
        "print(lista)\n",
        "lista=[\"k\", \"b\",\"d\",\"j\"]\n",
        "print(lista)\n",
        "lista.reverse()\n",
        "print(lista)\n"
      ],
      "metadata": {
        "id": "iutWzGXlT_Xw",
        "outputId": "95b932d7-ae52-4ec6-c9e6-48dc5d42808c",
        "colab": {
          "base_uri": "https://localhost:8080/"
        }
      },
      "execution_count": null,
      "outputs": [
        {
          "output_type": "stream",
          "name": "stdout",
          "text": [
            "[5, 1, 3, 8, 4, 2.5, 2, 3.6]\n",
            "[3.6, 2, 2.5, 4, 8, 3, 1, 5]\n",
            "['k', 'b', 'd', 'j']\n",
            "['j', 'd', 'b', 'k']\n"
          ]
        }
      ]
    },
    {
      "cell_type": "code",
      "source": [
        "lista=[5,1,3,8,4,2.5,2,3.6]\n",
        "print(lista)\n",
        "lista.sort()\n",
        "lista.reverse()\n",
        "print(lista)\n",
        "print(lista[2:5])\n",
        "lista=[\"k\",\"b\", \"d\",\"j\"]\n",
        "print(lista)\n",
        "lista.sort()\n",
        "lista.reverse()\n",
        "print(lista)\n",
        "print(lista[2:])\n"
      ],
      "metadata": {
        "id": "l-T8tcnCYiG0",
        "outputId": "cc2132d5-14c7-4186-8806-d8a9835ede10",
        "colab": {
          "base_uri": "https://localhost:8080/"
        }
      },
      "execution_count": null,
      "outputs": [
        {
          "output_type": "stream",
          "name": "stdout",
          "text": [
            "[5, 1, 3, 8, 4, 2.5, 2, 3.6]\n",
            "[8, 5, 4, 3.6, 3, 2.5, 2, 1]\n",
            "[4, 3.6, 3]\n",
            "['k', 'b', 'd', 'j']\n",
            "['k', 'j', 'd', 'b']\n",
            "['d', 'b']\n"
          ]
        }
      ]
    },
    {
      "cell_type": "markdown",
      "source": [
        "###dicionários"
      ],
      "metadata": {
        "id": "rkfzvPkwaYIw"
      }
    },
    {
      "cell_type": "code",
      "source": [
        "preços_frutas={\"banana\":1.99, \"cebola\":2.5}\n",
        "print(preços_frutas)\n",
        "print(preços_frutas[\"cebola\"])\n",
        "preços_frutas[\"tomate\"]=3.99\n",
        "print(preços_frutas)\n",
        "preços_frutas[\"banana\"]=2.99\n",
        "print(preços_frutas)\n",
        "preços_frutas[\"chefe\"]=\"prof Max\"\n",
        "print(preços_frutas[\"chefe\"][0])\n",
        "print(preços_frutas.keys())\n",
        "print(preços_frutas.values())\n",
        "print(preços_frutas.items())\n",
        "preços_frutas[\"lista_aqui\"]=[\"g\", 8, 3.6]\n",
        "print(preços_frutas[\"lista_aqui\"][0])\n",
        "preços_frutas[\"lista_aqui\"][0]=preços_frutas[\"lista_aqui\"][0].upper()\n",
        "preços_frutas[\"outro_dic\"]={\"YYY\":500, \"xxx\":6.99}\n",
        "print(preços_frutas)\n",
        "print(preços_frutas[\"outro_dic\"][\"YYY\"])\n",
        "\n"
      ],
      "metadata": {
        "id": "W2x4LiaBacXt",
        "colab": {
          "base_uri": "https://localhost:8080/"
        },
        "outputId": "2d71c0f0-183e-485c-d85b-60354f5974e7"
      },
      "execution_count": null,
      "outputs": [
        {
          "output_type": "stream",
          "name": "stdout",
          "text": [
            "{'banana': 1.99, 'cebola': 2.5}\n",
            "2.5\n",
            "{'banana': 1.99, 'cebola': 2.5, 'tomate': 3.99}\n",
            "{'banana': 2.99, 'cebola': 2.5, 'tomate': 3.99}\n",
            "p\n",
            "dict_keys(['banana', 'cebola', 'tomate', 'chefe'])\n",
            "dict_values([2.99, 2.5, 3.99, 'prof Max'])\n",
            "dict_items([('banana', 2.99), ('cebola', 2.5), ('tomate', 3.99), ('chefe', 'prof Max')])\n",
            "g\n",
            "{'banana': 2.99, 'cebola': 2.5, 'tomate': 3.99, 'chefe': 'prof Max', 'lista_aqui': ['G', 8, 3.6], 'outro_dic': {'YYY': 500, 'xxx': 6.99}}\n",
            "500\n"
          ]
        }
      ]
    },
    {
      "cell_type": "markdown",
      "source": [
        "###Tuples"
      ],
      "metadata": {
        "id": "bsQTG7uEZvgi"
      }
    },
    {
      "cell_type": "code",
      "source": [
        "tup=(2,\"a\",3.5,\"a\",\"b\",\"c\",\"b\",\"a\")\n",
        "lis=[1,2,3]\n",
        "print(type(tup))\n",
        "print(type(lis))\n",
        "print(tup.count(\"a\"))\n",
        "print(tup.index(\"b\"))\n",
        "print(tup[2:])\n",
        "print(len(tup))\n",
        "tup[3]=\"z\""
      ],
      "metadata": {
        "colab": {
          "base_uri": "https://localhost:8080/",
          "height": 306
        },
        "id": "4999HVmJZxXd",
        "outputId": "8e3ef5d6-5b45-4496-c8aa-c1fe0aed8576"
      },
      "execution_count": null,
      "outputs": [
        {
          "output_type": "stream",
          "name": "stdout",
          "text": [
            "<class 'tuple'>\n",
            "<class 'list'>\n",
            "3\n",
            "4\n",
            "(3.5, 'a', 'b', 'c', 'b', 'a')\n",
            "8\n"
          ]
        },
        {
          "output_type": "error",
          "ename": "TypeError",
          "evalue": "ignored",
          "traceback": [
            "\u001b[0;31m---------------------------------------------------------------------------\u001b[0m",
            "\u001b[0;31mTypeError\u001b[0m                                 Traceback (most recent call last)",
            "\u001b[0;32m<ipython-input-6-b57c67852c9b>\u001b[0m in \u001b[0;36m<module>\u001b[0;34m()\u001b[0m\n\u001b[1;32m      7\u001b[0m \u001b[0mprint\u001b[0m\u001b[0;34m(\u001b[0m\u001b[0mtup\u001b[0m\u001b[0;34m[\u001b[0m\u001b[0;36m2\u001b[0m\u001b[0;34m:\u001b[0m\u001b[0;34m]\u001b[0m\u001b[0;34m)\u001b[0m\u001b[0;34m\u001b[0m\u001b[0;34m\u001b[0m\u001b[0m\n\u001b[1;32m      8\u001b[0m \u001b[0mprint\u001b[0m\u001b[0;34m(\u001b[0m\u001b[0mlen\u001b[0m\u001b[0;34m(\u001b[0m\u001b[0mtup\u001b[0m\u001b[0;34m)\u001b[0m\u001b[0;34m)\u001b[0m\u001b[0;34m\u001b[0m\u001b[0;34m\u001b[0m\u001b[0m\n\u001b[0;32m----> 9\u001b[0;31m \u001b[0mtup\u001b[0m\u001b[0;34m[\u001b[0m\u001b[0;36m3\u001b[0m\u001b[0;34m]\u001b[0m\u001b[0;34m=\u001b[0m\u001b[0;34m\"z\"\u001b[0m\u001b[0;34m\u001b[0m\u001b[0;34m\u001b[0m\u001b[0m\n\u001b[0m",
            "\u001b[0;31mTypeError\u001b[0m: 'tuple' object does not support item assignment"
          ]
        }
      ]
    },
    {
      "cell_type": "markdown",
      "source": [
        "###Sets"
      ],
      "metadata": {
        "id": "SCQzn6qKa-Oz"
      }
    },
    {
      "cell_type": "code",
      "source": [
        "meuset=set()\n",
        "print(type(meuset))\n",
        "meuset.add(\"r\")\n",
        "meuset.add(3)\n",
        "meuset.add(\"z\")\n",
        "meuset.add(\"9.5\")\n",
        "print(meuset)\n",
        "lista=[\"e\",2,3,4,2,3,2,4,\"a\",\"e\",\"b\",\"a\"]\n",
        "meuset=set(lista)\n",
        "print(meuset)\n",
        "meuset2=set(\"mississipi\")\n",
        "print(meuset2)\n"
      ],
      "metadata": {
        "colab": {
          "base_uri": "https://localhost:8080/"
        },
        "id": "tLcOvst3bAx-",
        "outputId": "6d02e009-5237-4233-8e0a-0150b86dc699"
      },
      "execution_count": null,
      "outputs": [
        {
          "output_type": "stream",
          "name": "stdout",
          "text": [
            "<class 'set'>\n",
            "{'9.5', 3, 'z', 'r'}\n",
            "{2, 3, 4, 'b', 'e', 'a'}\n",
            "{'p', 's', 'm', 'i'}\n"
          ]
        }
      ]
    },
    {
      "cell_type": "markdown",
      "source": [
        "###boolean"
      ],
      "metadata": {
        "id": "Pjz96crrcT13"
      }
    },
    {
      "cell_type": "code",
      "source": [
        "a=\"true\"\n",
        "print(type(a))\n",
        "b=None\n",
        "print(type(b))\n",
        "c=False\n",
        "print(c)\n",
        "print(3>1)"
      ],
      "metadata": {
        "colab": {
          "base_uri": "https://localhost:8080/"
        },
        "id": "_NzbLRmhcWyM",
        "outputId": "e6801126-e731-433a-d5b6-9b98232e37bd"
      },
      "execution_count": null,
      "outputs": [
        {
          "output_type": "stream",
          "name": "stdout",
          "text": [
            "<class 'str'>\n",
            "<class 'NoneType'>\n",
            "False\n",
            "True\n"
          ]
        }
      ]
    },
    {
      "cell_type": "markdown",
      "source": [
        "###Files"
      ],
      "metadata": {
        "id": "b2Dgy5Boc3WR"
      }
    },
    {
      "cell_type": "code",
      "source": [
        "meuarquivo=open('texto.txt')\n",
        "print(meuarquivo)\n",
        "print(meuarquivo.read())\n",
        "print(meuarquivo.read())\n",
        "meuarquivo.seek(0)\n",
        "print(meuarquivo.read())\n",
        "meuarquivo.seek(0)\n",
        "stringarquivo=meuarquivo.read()\n",
        "print(stringarquivo)\n",
        "meuarquivo.seek(0)\n",
        "paragrafosarquivo=meuarquivo.readlines()\n",
        "print(paragrafosarquivo)\n",
        "meuarquivo.close()\n",
        "arq=open(\"outrotexto.txt\",\"w\")\n",
        "arq.write(\"esse é outro texto\")\n",
        "arq.close()\n"
      ],
      "metadata": {
        "id": "cUgjUISuc7HH",
        "colab": {
          "base_uri": "https://localhost:8080/",
          "height": 235
        },
        "outputId": "eef5229c-f260-4f6e-f068-09580e3dfc0a"
      },
      "execution_count": null,
      "outputs": [
        {
          "output_type": "error",
          "ename": "FileNotFoundError",
          "evalue": "ignored",
          "traceback": [
            "\u001b[0;31m---------------------------------------------------------------------------\u001b[0m",
            "\u001b[0;31mFileNotFoundError\u001b[0m                         Traceback (most recent call last)",
            "\u001b[0;32m<ipython-input-9-c650a283b35c>\u001b[0m in \u001b[0;36m<module>\u001b[0;34m()\u001b[0m\n\u001b[0;32m----> 1\u001b[0;31m \u001b[0mmeuarquivo\u001b[0m\u001b[0;34m=\u001b[0m\u001b[0mopen\u001b[0m\u001b[0;34m(\u001b[0m\u001b[0;34m'texto.txt'\u001b[0m\u001b[0;34m)\u001b[0m\u001b[0;34m\u001b[0m\u001b[0;34m\u001b[0m\u001b[0m\n\u001b[0m\u001b[1;32m      2\u001b[0m \u001b[0mprint\u001b[0m\u001b[0;34m(\u001b[0m\u001b[0mmeuarquivo\u001b[0m\u001b[0;34m)\u001b[0m\u001b[0;34m\u001b[0m\u001b[0;34m\u001b[0m\u001b[0m\n\u001b[1;32m      3\u001b[0m \u001b[0mprint\u001b[0m\u001b[0;34m(\u001b[0m\u001b[0mmeuarquivo\u001b[0m\u001b[0;34m.\u001b[0m\u001b[0mread\u001b[0m\u001b[0;34m(\u001b[0m\u001b[0;34m)\u001b[0m\u001b[0;34m)\u001b[0m\u001b[0;34m\u001b[0m\u001b[0;34m\u001b[0m\u001b[0m\n\u001b[1;32m      4\u001b[0m \u001b[0mprint\u001b[0m\u001b[0;34m(\u001b[0m\u001b[0mmeuarquivo\u001b[0m\u001b[0;34m.\u001b[0m\u001b[0mread\u001b[0m\u001b[0;34m(\u001b[0m\u001b[0;34m)\u001b[0m\u001b[0;34m)\u001b[0m\u001b[0;34m\u001b[0m\u001b[0;34m\u001b[0m\u001b[0m\n\u001b[1;32m      5\u001b[0m \u001b[0mmeuarquivo\u001b[0m\u001b[0;34m.\u001b[0m\u001b[0mseek\u001b[0m\u001b[0;34m(\u001b[0m\u001b[0;36m0\u001b[0m\u001b[0;34m)\u001b[0m\u001b[0;34m\u001b[0m\u001b[0;34m\u001b[0m\u001b[0m\n",
            "\u001b[0;31mFileNotFoundError\u001b[0m: [Errno 2] No such file or directory: 'texto.txt'"
          ]
        }
      ]
    },
    {
      "cell_type": "code",
      "source": [
        "with open('texto2.txt', mode =\"w\") as meuarquivo:\n",
        "  meuarquivo.write(\"novo texto!\")\n",
        "with open(\"texto2.txt\", mode='r') as meuarquivo:\n",
        "   print(meuarquivo.read())\n",
        "print(\"-----------------------\")\n",
        "with open(\"texto2.txt\", mode=\"a\") as meuarquivo:\n",
        "  meuarquivo.write(\"\\nNova linha!\")\n",
        "with open('texto2.txt', mode=\"r\") as meuarquivo:\n",
        "   print(meuarquivo.read()) "
      ],
      "metadata": {
        "colab": {
          "base_uri": "https://localhost:8080/"
        },
        "id": "G7Rl9z8eNdnO",
        "outputId": "68dc9b98-9207-4396-f1e1-6ee21fbf5c13"
      },
      "execution_count": null,
      "outputs": [
        {
          "output_type": "stream",
          "name": "stdout",
          "text": [
            "novo texto!\n",
            "-----------------------\n",
            "novo texto!\n",
            "Nova linha!\n"
          ]
        }
      ]
    }
  ]
}
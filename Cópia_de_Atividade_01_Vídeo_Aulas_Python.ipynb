{
  "nbformat": 4,
  "nbformat_minor": 0,
  "metadata": {
    "colab": {
      "name": "Cópia de Atividade 01 - Vídeo Aulas Python.ipynb",
      "provenance": [],
      "collapsed_sections": [],
      "authorship_tag": "ABX9TyM5J/H3pk82MSpf0VJg5yy2",
      "include_colab_link": true
    },
    "kernelspec": {
      "name": "python3",
      "display_name": "Python 3"
    },
    "language_info": {
      "name": "python"
    }
  },
  "cells": [
    {
      "cell_type": "markdown",
      "metadata": {
        "id": "view-in-github",
        "colab_type": "text"
      },
      "source": [
        "<a href=\"https://colab.research.google.com/github/Castro-Thais-Andrade/Lab/blob/main/C%C3%B3pia_de_Atividade_01_V%C3%ADdeo_Aulas_Python.ipynb\" target=\"_parent\"><img src=\"https://colab.research.google.com/assets/colab-badge.svg\" alt=\"Open In Colab\"/></a>"
      ]
    },
    {
      "cell_type": "markdown",
      "source": [
        "###olá mundo "
      ],
      "metadata": {
        "id": "rkKXOLmYgOgB"
      }
    },
    {
      "cell_type": "markdown",
      "source": [
        "nosso primeiro comando em python"
      ],
      "metadata": {
        "id": "jS8wKxeSgukR"
      }
    },
    {
      "cell_type": "code",
      "source": [
        "print(\"olá mundo\")"
      ],
      "metadata": {
        "colab": {
          "base_uri": "https://localhost:8080/"
        },
        "id": "U-p_yj9jg1zC",
        "outputId": "a3994133-1654-476a-f8bb-784a8a886f22"
      },
      "execution_count": null,
      "outputs": [
        {
          "output_type": "stream",
          "name": "stdout",
          "text": [
            "olá mundo\n"
          ]
        }
      ]
    },
    {
      "cell_type": "markdown",
      "source": [
        "###strings"
      ],
      "metadata": {
        "id": "P0pqmPmchJsm"
      }
    },
    {
      "cell_type": "markdown",
      "source": [
        "concatenaçao de strings \"+\""
      ],
      "metadata": {
        "id": "fAi5eLrEhUdo"
      }
    },
    {
      "cell_type": "code",
      "source": [
        "print(\"curso \" + \"de python\")"
      ],
      "metadata": {
        "colab": {
          "base_uri": "https://localhost:8080/"
        },
        "id": "VxxS9Kwxhagw",
        "outputId": "7cdfb478-3221-4a47-d285-fdf656a3dc3d"
      },
      "execution_count": null,
      "outputs": [
        {
          "output_type": "stream",
          "name": "stdout",
          "text": [
            "curso de python\n"
          ]
        }
      ]
    },
    {
      "cell_type": "markdown",
      "source": [
        "substituindo valores com format()"
      ],
      "metadata": {
        "id": "mOt6ZzEnhvob"
      }
    },
    {
      "cell_type": "code",
      "source": [
        "print(\"aula {} do curso de {}\". format(1,\"python\"))"
      ],
      "metadata": {
        "colab": {
          "base_uri": "https://localhost:8080/"
        },
        "id": "6dnCJEYyh7RR",
        "outputId": "8ae2b2b7-e855-4c6e-d560-8719cd6814a2"
      },
      "execution_count": null,
      "outputs": [
        {
          "output_type": "stream",
          "name": "stdout",
          "text": [
            "aula 1 do curso de python\n"
          ]
        }
      ]
    },
    {
      "cell_type": "markdown",
      "source": [
        "transformando para minusculas com ``lower()``"
      ],
      "metadata": {
        "id": "9p-C2zGoihIs"
      }
    },
    {
      "cell_type": "code",
      "source": [
        "print(\"CurSo de PythOn para IniciAntes\".lower())"
      ],
      "metadata": {
        "colab": {
          "base_uri": "https://localhost:8080/"
        },
        "id": "FVgSKEbPi7Lf",
        "outputId": "d2bd820d-9808-42ee-e8b5-28401f9fea05"
      },
      "execution_count": null,
      "outputs": [
        {
          "output_type": "stream",
          "name": "stdout",
          "text": [
            "curso de python para iniciantes\n"
          ]
        }
      ]
    },
    {
      "cell_type": "markdown",
      "source": [
        "transformando em maiuscúlas cpm ``upper``"
      ],
      "metadata": {
        "id": "cE192YyljpBw"
      }
    },
    {
      "cell_type": "code",
      "source": [
        "print(\"curso de python para iniciantes\".upper())"
      ],
      "metadata": {
        "colab": {
          "base_uri": "https://localhost:8080/"
        },
        "id": "7G7vLSIgj1qw",
        "outputId": "61d0acd5-934b-4a06-ab68-f69f4d44565f"
      },
      "execution_count": null,
      "outputs": [
        {
          "output_type": "stream",
          "name": "stdout",
          "text": [
            "CURSO DE PYTHON PARA INICIANTES\n"
          ]
        }
      ]
    },
    {
      "cell_type": "markdown",
      "source": [
        "Removendo espaços em branco com ``strip()``"
      ],
      "metadata": {
        "id": "2AmcbSrlkEPB"
      }
    },
    {
      "cell_type": "code",
      "source": [
        "print(\"         Curso de Python para Iniciantes           \".strip())"
      ],
      "metadata": {
        "colab": {
          "base_uri": "https://localhost:8080/"
        },
        "id": "7bKYQgXKkVxI",
        "outputId": "b5e98b24-c4c6-4fc1-d015-6f6d0b46e1af"
      },
      "execution_count": null,
      "outputs": [
        {
          "output_type": "stream",
          "name": "stdout",
          "text": [
            "Curso de Python para Iniciantes\n"
          ]
        }
      ]
    },
    {
      "cell_type": "markdown",
      "source": [
        "o tipo ``str``"
      ],
      "metadata": {
        "id": "lZBP_1JvkuLS"
      }
    },
    {
      "cell_type": "code",
      "source": [
        "type(\"Curso de Python para Iniciantes\")"
      ],
      "metadata": {
        "colab": {
          "base_uri": "https://localhost:8080/"
        },
        "id": "UvTL0knkk7OR",
        "outputId": "1149128b-bbe3-46c1-daa8-75de5a2579d8"
      },
      "execution_count": null,
      "outputs": [
        {
          "output_type": "execute_result",
          "data": {
            "text/plain": [
              "str"
            ]
          },
          "metadata": {},
          "execution_count": 15
        }
      ]
    },
    {
      "cell_type": "markdown",
      "source": [
        "### lidando com números e operadores matemáticos"
      ],
      "metadata": {
        "id": "J5_eBHzllN0h"
      }
    },
    {
      "cell_type": "markdown",
      "source": [
        "tipos númericos"
      ],
      "metadata": {
        "id": "H2ldjN2YliIj"
      }
    },
    {
      "cell_type": "code",
      "source": [
        "type(12)"
      ],
      "metadata": {
        "colab": {
          "base_uri": "https://localhost:8080/"
        },
        "id": "zXctsfGolmXL",
        "outputId": "1ca30c83-4c61-4c99-b582-27efcc93e0cc"
      },
      "execution_count": null,
      "outputs": [
        {
          "output_type": "execute_result",
          "data": {
            "text/plain": [
              "int"
            ]
          },
          "metadata": {},
          "execution_count": 16
        }
      ]
    },
    {
      "cell_type": "code",
      "source": [
        "type(3.6)"
      ],
      "metadata": {
        "colab": {
          "base_uri": "https://localhost:8080/"
        },
        "id": "N5EXbh3nlr8Z",
        "outputId": "08f774aa-cf07-4f01-90ed-53e09036bdf2"
      },
      "execution_count": null,
      "outputs": [
        {
          "output_type": "execute_result",
          "data": {
            "text/plain": [
              "float"
            ]
          },
          "metadata": {},
          "execution_count": 17
        }
      ]
    },
    {
      "cell_type": "markdown",
      "source": [
        "soma"
      ],
      "metadata": {
        "id": "3mrDOCRIlxTZ"
      }
    },
    {
      "cell_type": "code",
      "source": [
        "2+8"
      ],
      "metadata": {
        "colab": {
          "base_uri": "https://localhost:8080/"
        },
        "id": "A_Rop0BDl5Ja",
        "outputId": "b1232a99-aab3-4bab-c64c-6a4833b034f5"
      },
      "execution_count": null,
      "outputs": [
        {
          "output_type": "execute_result",
          "data": {
            "text/plain": [
              "10"
            ]
          },
          "metadata": {},
          "execution_count": 18
        }
      ]
    },
    {
      "cell_type": "code",
      "source": [
        "163+733"
      ],
      "metadata": {
        "colab": {
          "base_uri": "https://localhost:8080/"
        },
        "id": "0EqHv3rtl70A",
        "outputId": "89952e84-223f-46bc-f823-38ccf93f1984"
      },
      "execution_count": null,
      "outputs": [
        {
          "output_type": "execute_result",
          "data": {
            "text/plain": [
              "896"
            ]
          },
          "metadata": {},
          "execution_count": 19
        }
      ]
    },
    {
      "cell_type": "markdown",
      "source": [
        "subtração "
      ],
      "metadata": {
        "id": "nEL9MtIOmCMV"
      }
    },
    {
      "cell_type": "code",
      "source": [
        "2-2"
      ],
      "metadata": {
        "colab": {
          "base_uri": "https://localhost:8080/"
        },
        "id": "npxErBqtmGPy",
        "outputId": "8a1ca6a5-ab27-4f5c-df25-ed803c5976c7"
      },
      "execution_count": null,
      "outputs": [
        {
          "output_type": "execute_result",
          "data": {
            "text/plain": [
              "0"
            ]
          },
          "metadata": {},
          "execution_count": 20
        }
      ]
    },
    {
      "cell_type": "code",
      "source": [
        "3-7"
      ],
      "metadata": {
        "colab": {
          "base_uri": "https://localhost:8080/"
        },
        "id": "KzHQ6CcRmItx",
        "outputId": "83bd61f5-81a2-4da8-e074-e0e2b397f3fb"
      },
      "execution_count": null,
      "outputs": [
        {
          "output_type": "execute_result",
          "data": {
            "text/plain": [
              "-4"
            ]
          },
          "metadata": {},
          "execution_count": 21
        }
      ]
    },
    {
      "cell_type": "code",
      "source": [
        "12-2"
      ],
      "metadata": {
        "colab": {
          "base_uri": "https://localhost:8080/"
        },
        "id": "jBpUtJ7kmKV5",
        "outputId": "62f92531-ce88-4943-9241-8f3a41f5f7cb"
      },
      "execution_count": null,
      "outputs": [
        {
          "output_type": "execute_result",
          "data": {
            "text/plain": [
              "10"
            ]
          },
          "metadata": {},
          "execution_count": 22
        }
      ]
    },
    {
      "cell_type": "markdown",
      "source": [
        "multiplição"
      ],
      "metadata": {
        "id": "BACz1aa7mROZ"
      }
    },
    {
      "cell_type": "code",
      "source": [
        "3*45"
      ],
      "metadata": {
        "colab": {
          "base_uri": "https://localhost:8080/"
        },
        "id": "U_LZlnZtmVin",
        "outputId": "e5a4c3c8-9936-4e08-f8bc-1a4d67875b9a"
      },
      "execution_count": null,
      "outputs": [
        {
          "output_type": "execute_result",
          "data": {
            "text/plain": [
              "135"
            ]
          },
          "metadata": {},
          "execution_count": 23
        }
      ]
    },
    {
      "cell_type": "code",
      "source": [
        "2*3"
      ],
      "metadata": {
        "colab": {
          "base_uri": "https://localhost:8080/"
        },
        "id": "wT08ha1qmXn_",
        "outputId": "c53476ab-e322-47f7-9d61-46f58d2766a1"
      },
      "execution_count": null,
      "outputs": [
        {
          "output_type": "execute_result",
          "data": {
            "text/plain": [
              "6"
            ]
          },
          "metadata": {},
          "execution_count": 24
        }
      ]
    },
    {
      "cell_type": "code",
      "source": [
        "1234*3456"
      ],
      "metadata": {
        "colab": {
          "base_uri": "https://localhost:8080/"
        },
        "id": "iOuiuYckmZA5",
        "outputId": "056d707b-36df-4f90-a5b4-a5827015e41e"
      },
      "execution_count": null,
      "outputs": [
        {
          "output_type": "execute_result",
          "data": {
            "text/plain": [
              "4264704"
            ]
          },
          "metadata": {},
          "execution_count": 25
        }
      ]
    },
    {
      "cell_type": "markdown",
      "source": [
        "exponenciação"
      ],
      "metadata": {
        "id": "XxyZKxgdmvBH"
      }
    },
    {
      "cell_type": "code",
      "source": [
        "2**3"
      ],
      "metadata": {
        "colab": {
          "base_uri": "https://localhost:8080/"
        },
        "id": "GY4EjLF5my5g",
        "outputId": "c9d262c0-6152-48d1-8f53-c422a9b86f7d"
      },
      "execution_count": null,
      "outputs": [
        {
          "output_type": "execute_result",
          "data": {
            "text/plain": [
              "8"
            ]
          },
          "metadata": {},
          "execution_count": 27
        }
      ]
    },
    {
      "cell_type": "code",
      "source": [
        "5**2"
      ],
      "metadata": {
        "colab": {
          "base_uri": "https://localhost:8080/"
        },
        "id": "Og5jMx18m0ra",
        "outputId": "aafd8ea2-4219-43a9-c3b1-6856d7bfc59b"
      },
      "execution_count": null,
      "outputs": [
        {
          "output_type": "execute_result",
          "data": {
            "text/plain": [
              "25"
            ]
          },
          "metadata": {},
          "execution_count": 28
        }
      ]
    },
    {
      "cell_type": "code",
      "source": [
        "4576**1234"
      ],
      "metadata": {
        "colab": {
          "base_uri": "https://localhost:8080/"
        },
        "id": "pD2xZe2nm3Nz",
        "outputId": "1c520a72-3731-4f07-f4d9-935b580c26c9"
      },
      "execution_count": null,
      "outputs": [
        {
          "output_type": "execute_result",
          "data": {
            "text/plain": [
              "109583073911318694669295388834961658516082088639327676518404528329036034055361416422799499992003626237973525353155230683395499870692935939244495265783818099925335028103660677398259154005903451569552755525703133330085763184784950116323305994528812076129932619908840971444005878459516587790050768919575972323371927535720735599050245229813053199998872008883902993823046746008658319065851799982473428181312820174731897226026167222634971933502953714840589606160273102809146613728902264579336759264726559809824102061081385560148686638323928196040004594859432467137019305171883689566690619162111328285247362183877767440637698618048077931030282210763516988168785460644096146182291683795926587388839670167685800779228998121957020471257311548297179976486599300471032624317165950716687449704232855056153694309794583271011027951432695151436494411473675401587302399314436991079898250307834266190765448732320412594751078136629149163365722385477456927714557638852341166370718613872672770188454237077919966615378993675482740668378426533881088288965020562390791127989863399317174312716402940205755970018613900235287219720377040872687810904363948649987712729473654583235927871936858022249984465231958266927020408703133719422770474380226209757385752979370587132528616011651949194137074388320533348450372080965484265501195226242956524621623691723991312934589504148958053341544257891518870902978493814152682938487014846620153260005827910909632389150571005053954607891004995096059736556417856668997146247531880835670508787158834560973946180663751644870187072679759049304583652691988668757505537419881487965046203188788988017497306578475645961588536916977854837657645206768835093913578534954288677938551301173570044087683289877287166770770544170320004867750538645707856687230207329900004350050845759475888370537933323164018284311834768951470795562347954591412150989422703961295683994263001245207712519380148911371134693140571128411640291484838520417612040614820278724749081287107170786681555212193488472938503078413502555271077722973749983220236816032829950065183965332797874339247137813785498266423083089497041057577336993916616228241752920979124587021629362388905567116491988093241139346807236144889800699564614733495816215208314628650211923285280260058899102983467076489399802367247849463329813146628662770258316589272157458998220252819447360939749526994685956240173567445719665103935959858198975406928192401496731839922209130829652264867255247004697619880573127859566589579855760723135541774116475000057993256219069478561672159275458972533401856592734570565024838928871497127287082771092384801161208328572931193705605366510439157668144101337766903664135485165472968465681991964893677456318532055924632379077442030110766748972815758757884462716550110462476714363285776480176026356789738026163834176246443544299181981504185120524577079820115209522035034354624472247319806244829026846557319306275204855816572393355039356240491168653876242641039569804357625497080648254456311683397797132471367460024990163538746145805026245312233436337180069235132313200233370611207558909190652544919874950490714127567487428696779707771733955464993551704316651712355036147258534596875824186826419929400188780025652680005556400488214580725919950645708467174192231635234803139815178264570173783967467731084045914653646636111274278385231843478608246319260901124788123083108783088882393475636833224833962133013149575270786066590155867836421850068704803462356990978996421653623309741401194387889928466077156408140862314662815069728463568072020991421915199380534409321270329706363027356195122114949130032314163464686745241087267144771757925007962106284474456990900616077394649282843507945362641337896295303067125422857246063513899299389466991033870139707372671612853275901884136815765548173705748880732969687814860938244418079337067744788686364845700942868644726009082712983779477897888352582889925647280480101090030492159556035316275260351311680963885043928097621584799011225092410642828389435005657346143684656530691247932899816321077001045971212381879414401022137125860107656804386287492949328406142750279507464720138891668955993675493084434406604175642201823223737657928015836235517143703668520595773591647259072218310807129081247518966063592321407113834553194095638592685622334083539983648251953021719259396563546880336945579982551822860625106405335386943919625511791784101084139139929263101461138857352411497407731906217467223873806904199244364512248520711206803607144889951757033842991647469479848588436291321714445862305013283674067395469945170419490226176"
            ]
          },
          "metadata": {},
          "execution_count": 29
        }
      ]
    },
    {
      "cell_type": "markdown",
      "source": [
        "divisão"
      ],
      "metadata": {
        "id": "fRaMI5hNm_Yz"
      }
    },
    {
      "cell_type": "code",
      "source": [
        "5/2"
      ],
      "metadata": {
        "colab": {
          "base_uri": "https://localhost:8080/"
        },
        "id": "1OAfZZXZnBfD",
        "outputId": "c55fb9e2-6448-4d63-93ff-f2994956f2d2"
      },
      "execution_count": null,
      "outputs": [
        {
          "output_type": "execute_result",
          "data": {
            "text/plain": [
              "2.5"
            ]
          },
          "metadata": {},
          "execution_count": 30
        }
      ]
    },
    {
      "cell_type": "code",
      "source": [
        "10/2"
      ],
      "metadata": {
        "colab": {
          "base_uri": "https://localhost:8080/"
        },
        "id": "e6pbgEEsnHiC",
        "outputId": "06366e3f-8c18-4cdb-8d7d-5a9460a0c8bd"
      },
      "execution_count": null,
      "outputs": [
        {
          "output_type": "execute_result",
          "data": {
            "text/plain": [
              "5.0"
            ]
          },
          "metadata": {},
          "execution_count": 31
        }
      ]
    },
    {
      "cell_type": "code",
      "source": [
        "345/0.34"
      ],
      "metadata": {
        "colab": {
          "base_uri": "https://localhost:8080/"
        },
        "id": "LUu67GO6nJ-7",
        "outputId": "93803374-2cef-47d4-9937-3e240bd7f45b"
      },
      "execution_count": null,
      "outputs": [
        {
          "output_type": "execute_result",
          "data": {
            "text/plain": [
              "1014.7058823529411"
            ]
          },
          "metadata": {},
          "execution_count": 32
        }
      ]
    },
    {
      "cell_type": "code",
      "source": [
        "type(5/2)"
      ],
      "metadata": {
        "colab": {
          "base_uri": "https://localhost:8080/"
        },
        "id": "G5V-8_82nPMR",
        "outputId": "f5df86aa-9cb6-4d5b-e172-96a6ed6c4fd3"
      },
      "execution_count": null,
      "outputs": [
        {
          "output_type": "execute_result",
          "data": {
            "text/plain": [
              "float"
            ]
          },
          "metadata": {},
          "execution_count": 33
        }
      ]
    },
    {
      "cell_type": "markdown",
      "source": [
        "divisão inteira"
      ],
      "metadata": {
        "id": "X438rP-Dnehi"
      }
    },
    {
      "cell_type": "code",
      "source": [
        "5//2"
      ],
      "metadata": {
        "colab": {
          "base_uri": "https://localhost:8080/"
        },
        "id": "fn4wjWCMnmqc",
        "outputId": "d14e1cfa-eaa8-45df-de7f-de7f4a04c5b2"
      },
      "execution_count": null,
      "outputs": [
        {
          "output_type": "execute_result",
          "data": {
            "text/plain": [
              "2"
            ]
          },
          "metadata": {},
          "execution_count": 35
        }
      ]
    },
    {
      "cell_type": "markdown",
      "source": [
        "resto de divisão "
      ],
      "metadata": {
        "id": "wqCZOG0Joo0L"
      }
    },
    {
      "cell_type": "code",
      "source": [
        "5%2"
      ],
      "metadata": {
        "colab": {
          "base_uri": "https://localhost:8080/"
        },
        "id": "f3FM-9uVos_u",
        "outputId": "3b00916d-f00c-47fe-99ae-d9fbeec80a26"
      },
      "execution_count": null,
      "outputs": [
        {
          "output_type": "execute_result",
          "data": {
            "text/plain": [
              "1"
            ]
          },
          "metadata": {},
          "execution_count": 36
        }
      ]
    },
    {
      "cell_type": "markdown",
      "source": [
        "expressões "
      ],
      "metadata": {
        "id": "rA535CKWoy2b"
      }
    },
    {
      "cell_type": "code",
      "source": [
        "10-5+20-4"
      ],
      "metadata": {
        "colab": {
          "base_uri": "https://localhost:8080/"
        },
        "id": "EbXLJTaEo2ga",
        "outputId": "327c4152-a887-4cb7-d40d-a7a91ef34846"
      },
      "execution_count": null,
      "outputs": [
        {
          "output_type": "execute_result",
          "data": {
            "text/plain": [
              "21"
            ]
          },
          "metadata": {},
          "execution_count": 37
        }
      ]
    },
    {
      "cell_type": "code",
      "source": [
        "((2+3)*(4-2))**2"
      ],
      "metadata": {
        "colab": {
          "base_uri": "https://localhost:8080/"
        },
        "id": "QS_ApH_Eo8dy",
        "outputId": "3d8095ae-3fa0-4b85-b38c-1ae56ff53ffc"
      },
      "execution_count": null,
      "outputs": [
        {
          "output_type": "execute_result",
          "data": {
            "text/plain": [
              "100"
            ]
          },
          "metadata": {},
          "execution_count": 38
        }
      ]
    },
    {
      "cell_type": "markdown",
      "source": [
        "###variáveis"
      ],
      "metadata": {
        "id": "UKuQb6alxCmS"
      }
    },
    {
      "cell_type": "markdown",
      "source": [
        "variável texto "
      ],
      "metadata": {
        "id": "c6ORWFRNxHsD"
      }
    },
    {
      "cell_type": "code",
      "source": [
        "texto = \"curso de python para iniciantes\""
      ],
      "metadata": {
        "id": "cUsMvAbLxhbr"
      },
      "execution_count": null,
      "outputs": []
    },
    {
      "cell_type": "code",
      "source": [
        "texto"
      ],
      "metadata": {
        "colab": {
          "base_uri": "https://localhost:8080/",
          "height": 35
        },
        "id": "x_8sPVPFQHND",
        "outputId": "3ec50ec5-02d0-4493-b042-d3805763775a"
      },
      "execution_count": null,
      "outputs": [
        {
          "output_type": "execute_result",
          "data": {
            "text/plain": [
              "'curso de python para iniciantes'"
            ],
            "application/vnd.google.colaboratory.intrinsic+json": {
              "type": "string"
            }
          },
          "metadata": {},
          "execution_count": 2
        }
      ]
    },
    {
      "cell_type": "code",
      "source": [
        "texto = texto +\" -aula 2\"\n",
        "texto"
      ],
      "metadata": {
        "colab": {
          "base_uri": "https://localhost:8080/",
          "height": 35
        },
        "id": "jVRkYBPTQLTj",
        "outputId": "9d914ffa-fe06-40d1-9432-353f42534029"
      },
      "execution_count": null,
      "outputs": [
        {
          "output_type": "execute_result",
          "data": {
            "text/plain": [
              "'curso de python para iniciantes -aula 2'"
            ],
            "application/vnd.google.colaboratory.intrinsic+json": {
              "type": "string"
            }
          },
          "metadata": {},
          "execution_count": 3
        }
      ]
    },
    {
      "cell_type": "markdown",
      "source": [
        "variáveis númercas"
      ],
      "metadata": {
        "id": "Mohf3McDQoYd"
      }
    },
    {
      "cell_type": "code",
      "source": [
        "soma= 0\n",
        "soma"
      ],
      "metadata": {
        "colab": {
          "base_uri": "https://localhost:8080/"
        },
        "id": "IBuX1UM8Q7S6",
        "outputId": "a03f1ee8-5198-4d43-90c9-0f86101ea9bc"
      },
      "execution_count": null,
      "outputs": [
        {
          "output_type": "execute_result",
          "data": {
            "text/plain": [
              "0"
            ]
          },
          "metadata": {},
          "execution_count": 4
        }
      ]
    },
    {
      "cell_type": "markdown",
      "source": [
        "incremanto/decremento"
      ],
      "metadata": {
        "id": "fLimc8N6REdV"
      }
    },
    {
      "cell_type": "code",
      "source": [
        "soma = soma+ 1\n",
        "soma"
      ],
      "metadata": {
        "colab": {
          "base_uri": "https://localhost:8080/"
        },
        "id": "rvGaAv4xRZH6",
        "outputId": "92ccbf42-e105-4938-e71a-8763681e29ab"
      },
      "execution_count": null,
      "outputs": [
        {
          "output_type": "execute_result",
          "data": {
            "text/plain": [
              "1"
            ]
          },
          "metadata": {},
          "execution_count": 5
        }
      ]
    },
    {
      "cell_type": "code",
      "source": [
        "soma += 1\n",
        "soma"
      ],
      "metadata": {
        "colab": {
          "base_uri": "https://localhost:8080/"
        },
        "id": "vDaMCUyKRlXh",
        "outputId": "f9f856ab-0e1a-4176-f1e8-3dcd01a7ff9f"
      },
      "execution_count": null,
      "outputs": [
        {
          "output_type": "execute_result",
          "data": {
            "text/plain": [
              "2"
            ]
          },
          "metadata": {},
          "execution_count": 7
        }
      ]
    },
    {
      "cell_type": "code",
      "source": [
        "soma -= 1 \n",
        "soma"
      ],
      "metadata": {
        "colab": {
          "base_uri": "https://localhost:8080/"
        },
        "id": "CEb3yKkPRwFi",
        "outputId": "0b14d894-cff3-46e0-d9df-f9b89e1cb357"
      },
      "execution_count": null,
      "outputs": [
        {
          "output_type": "execute_result",
          "data": {
            "text/plain": [
              "1"
            ]
          },
          "metadata": {},
          "execution_count": 8
        }
      ]
    },
    {
      "cell_type": "code",
      "source": [
        "soma= soma-1"
      ],
      "metadata": {
        "id": "xHRfKcMWS6C5"
      },
      "execution_count": null,
      "outputs": []
    },
    {
      "cell_type": "code",
      "source": [
        "soma"
      ],
      "metadata": {
        "colab": {
          "base_uri": "https://localhost:8080/"
        },
        "id": "sS7Av_lyTJtZ",
        "outputId": "37cf373e-c9b7-4ecf-81db-c9029857090a"
      },
      "execution_count": null,
      "outputs": [
        {
          "output_type": "execute_result",
          "data": {
            "text/plain": [
              "0"
            ]
          },
          "metadata": {},
          "execution_count": 10
        }
      ]
    },
    {
      "cell_type": "markdown",
      "source": [
        "Listas "
      ],
      "metadata": {
        "id": "d6bVsyNtTM-z"
      }
    },
    {
      "cell_type": "markdown",
      "source": [
        "criando e selecionando elementos"
      ],
      "metadata": {
        "id": "pewz8RX9TQRC"
      }
    },
    {
      "cell_type": "code",
      "source": [
        "frutas = ['maça', 'banana','laranja']\n",
        "frutas"
      ],
      "metadata": {
        "colab": {
          "base_uri": "https://localhost:8080/"
        },
        "id": "IAoPan1CTW6g",
        "outputId": "b7c4ec8c-059a-46d3-e138-4cc2757ff82d"
      },
      "execution_count": null,
      "outputs": [
        {
          "output_type": "execute_result",
          "data": {
            "text/plain": [
              "['maça', 'banana', 'laranja']"
            ]
          },
          "metadata": {},
          "execution_count": 36
        }
      ]
    },
    {
      "cell_type": "code",
      "source": [
        "frutas[0]"
      ],
      "metadata": {
        "colab": {
          "base_uri": "https://localhost:8080/",
          "height": 35
        },
        "id": "9ht99zLRTnce",
        "outputId": "93ab9343-92a7-4910-c1c5-ae7016e54fac"
      },
      "execution_count": null,
      "outputs": [
        {
          "output_type": "execute_result",
          "data": {
            "text/plain": [
              "'maça'"
            ],
            "application/vnd.google.colaboratory.intrinsic+json": {
              "type": "string"
            }
          },
          "metadata": {},
          "execution_count": 12
        }
      ]
    },
    {
      "cell_type": "code",
      "source": [
        "frutas[1]"
      ],
      "metadata": {
        "colab": {
          "base_uri": "https://localhost:8080/",
          "height": 35
        },
        "id": "MaduFLwhT1cw",
        "outputId": "a3fc516f-4782-4e18-db3a-fb5b47a41f86"
      },
      "execution_count": null,
      "outputs": [
        {
          "output_type": "execute_result",
          "data": {
            "text/plain": [
              "'banana'"
            ],
            "application/vnd.google.colaboratory.intrinsic+json": {
              "type": "string"
            }
          },
          "metadata": {},
          "execution_count": 13
        }
      ]
    },
    {
      "cell_type": "code",
      "source": [
        "frutas[2]"
      ],
      "metadata": {
        "colab": {
          "base_uri": "https://localhost:8080/",
          "height": 35
        },
        "id": "L4mxl_sLT33A",
        "outputId": "aee5447b-5b23-48f1-ab87-0840c455d1ca"
      },
      "execution_count": null,
      "outputs": [
        {
          "output_type": "execute_result",
          "data": {
            "text/plain": [
              "'laranja'"
            ],
            "application/vnd.google.colaboratory.intrinsic+json": {
              "type": "string"
            }
          },
          "metadata": {},
          "execution_count": 14
        }
      ]
    },
    {
      "cell_type": "code",
      "source": [
        "números = [1,2,3,4,5]\n",
        "números"
      ],
      "metadata": {
        "colab": {
          "base_uri": "https://localhost:8080/"
        },
        "id": "Xh37GAnxT5zA",
        "outputId": "154d2f9e-eedb-495c-cc4a-158cd3ac1e8f"
      },
      "execution_count": null,
      "outputs": [
        {
          "output_type": "execute_result",
          "data": {
            "text/plain": [
              "[1, 2, 3, 4, 5]"
            ]
          },
          "metadata": {},
          "execution_count": 16
        }
      ]
    },
    {
      "cell_type": "code",
      "source": [
        "lista = ['a', 'b', 'c',  frutas, números]\n",
        "lista"
      ],
      "metadata": {
        "colab": {
          "base_uri": "https://localhost:8080/"
        },
        "id": "pYavEkGzUQ0g",
        "outputId": "6c52178c-16a4-4df4-fc92-e9547f2d0f87"
      },
      "execution_count": null,
      "outputs": [
        {
          "output_type": "execute_result",
          "data": {
            "text/plain": [
              "['a', 'b', 'c', ['maça', 'banana', 'laranja'], [1, 2, 3, 4, 5]]"
            ]
          },
          "metadata": {},
          "execution_count": 18
        }
      ]
    },
    {
      "cell_type": "code",
      "source": [
        "lista[0]"
      ],
      "metadata": {
        "colab": {
          "base_uri": "https://localhost:8080/",
          "height": 35
        },
        "id": "MeEidXpvUjXY",
        "outputId": "abfef382-6900-47c3-a5bb-6a8c0df922df"
      },
      "execution_count": null,
      "outputs": [
        {
          "output_type": "execute_result",
          "data": {
            "text/plain": [
              "'a'"
            ],
            "application/vnd.google.colaboratory.intrinsic+json": {
              "type": "string"
            }
          },
          "metadata": {},
          "execution_count": 20
        }
      ]
    },
    {
      "cell_type": "code",
      "source": [
        "lista[1]"
      ],
      "metadata": {
        "colab": {
          "base_uri": "https://localhost:8080/",
          "height": 35
        },
        "id": "gEK8SzOiUsQY",
        "outputId": "79f3ac0b-1d37-471b-bbe6-c3ff6cbe70ae"
      },
      "execution_count": null,
      "outputs": [
        {
          "output_type": "execute_result",
          "data": {
            "text/plain": [
              "'b'"
            ],
            "application/vnd.google.colaboratory.intrinsic+json": {
              "type": "string"
            }
          },
          "metadata": {},
          "execution_count": 21
        }
      ]
    },
    {
      "cell_type": "code",
      "source": [
        "lista[2]"
      ],
      "metadata": {
        "colab": {
          "base_uri": "https://localhost:8080/",
          "height": 35
        },
        "id": "sPnlXPEAU0UX",
        "outputId": "cda04fd5-26b7-46f2-9dfa-f2655ccf9cf5"
      },
      "execution_count": null,
      "outputs": [
        {
          "output_type": "execute_result",
          "data": {
            "text/plain": [
              "'c'"
            ],
            "application/vnd.google.colaboratory.intrinsic+json": {
              "type": "string"
            }
          },
          "metadata": {},
          "execution_count": 22
        }
      ]
    },
    {
      "cell_type": "code",
      "source": [
        "lista[3]"
      ],
      "metadata": {
        "colab": {
          "base_uri": "https://localhost:8080/"
        },
        "id": "IgE8tnyfU8Tn",
        "outputId": "ad76d5e5-f702-41df-ab4d-523737c24850"
      },
      "execution_count": null,
      "outputs": [
        {
          "output_type": "execute_result",
          "data": {
            "text/plain": [
              "['maça', 'banana', 'laranja']"
            ]
          },
          "metadata": {},
          "execution_count": 23
        }
      ]
    },
    {
      "cell_type": "code",
      "source": [
        "lista[4]"
      ],
      "metadata": {
        "colab": {
          "base_uri": "https://localhost:8080/"
        },
        "id": "5EG-IwbuU-RB",
        "outputId": "281f5300-bb67-4ef5-94aa-5f90daf28ae6"
      },
      "execution_count": null,
      "outputs": [
        {
          "output_type": "execute_result",
          "data": {
            "text/plain": [
              "[1, 2, 3, 4, 5]"
            ]
          },
          "metadata": {},
          "execution_count": 24
        }
      ]
    },
    {
      "cell_type": "code",
      "source": [
        "lista[3][0]"
      ],
      "metadata": {
        "colab": {
          "base_uri": "https://localhost:8080/",
          "height": 35
        },
        "id": "3YOqAIkYVAF_",
        "outputId": "5567e331-4af9-4eab-99fb-3124cef8dadc"
      },
      "execution_count": null,
      "outputs": [
        {
          "output_type": "execute_result",
          "data": {
            "text/plain": [
              "'maça'"
            ],
            "application/vnd.google.colaboratory.intrinsic+json": {
              "type": "string"
            }
          },
          "metadata": {},
          "execution_count": 25
        }
      ]
    },
    {
      "cell_type": "code",
      "source": [
        "lista[3][1]"
      ],
      "metadata": {
        "colab": {
          "base_uri": "https://localhost:8080/",
          "height": 35
        },
        "id": "bsGlUCdPVLuf",
        "outputId": "a3917ed4-7b5c-4544-a73d-e91365337171"
      },
      "execution_count": null,
      "outputs": [
        {
          "output_type": "execute_result",
          "data": {
            "text/plain": [
              "'banana'"
            ],
            "application/vnd.google.colaboratory.intrinsic+json": {
              "type": "string"
            }
          },
          "metadata": {},
          "execution_count": 26
        }
      ]
    },
    {
      "cell_type": "code",
      "source": [
        "lista[:2]"
      ],
      "metadata": {
        "colab": {
          "base_uri": "https://localhost:8080/"
        },
        "id": "9vjk1_l6VVf3",
        "outputId": "38355413-6363-4ece-b81a-93429a8daa02"
      },
      "execution_count": null,
      "outputs": [
        {
          "output_type": "execute_result",
          "data": {
            "text/plain": [
              "['a', 'b']"
            ]
          },
          "metadata": {},
          "execution_count": 27
        }
      ]
    },
    {
      "cell_type": "code",
      "source": [
        "lista[2:]"
      ],
      "metadata": {
        "colab": {
          "base_uri": "https://localhost:8080/"
        },
        "id": "d9ybtaVTViFf",
        "outputId": "e9b67aca-5a2c-4dd6-bee7-29a889105f93"
      },
      "execution_count": null,
      "outputs": [
        {
          "output_type": "execute_result",
          "data": {
            "text/plain": [
              "['c', ['maça', 'banana', 'laranja'], [1, 2, 3, 4, 5]]"
            ]
          },
          "metadata": {},
          "execution_count": 29
        }
      ]
    },
    {
      "cell_type": "code",
      "source": [
        "lista[2:4]"
      ],
      "metadata": {
        "colab": {
          "base_uri": "https://localhost:8080/"
        },
        "id": "Cg1-c7OTVq53",
        "outputId": "70003510-b54f-4d71-94b7-99c3e0c2d171"
      },
      "execution_count": null,
      "outputs": [
        {
          "output_type": "execute_result",
          "data": {
            "text/plain": [
              "['c', ['maça', 'banana', 'laranja']]"
            ]
          },
          "metadata": {},
          "execution_count": 30
        }
      ]
    },
    {
      "cell_type": "markdown",
      "source": [
        "adicionando e removendo elementos"
      ],
      "metadata": {
        "id": "VwpFftjvV9Sr"
      }
    },
    {
      "cell_type": "code",
      "source": [
        "frutas.append('goiaba')\n",
        "frutas"
      ],
      "metadata": {
        "colab": {
          "base_uri": "https://localhost:8080/"
        },
        "id": "v5ffpR3kWBkH",
        "outputId": "a3f42386-8ea7-462f-e0c1-704262bdf593"
      },
      "execution_count": null,
      "outputs": [
        {
          "output_type": "execute_result",
          "data": {
            "text/plain": [
              "['maça', 'banana', 'laranja', 'goiaba']"
            ]
          },
          "metadata": {},
          "execution_count": 31
        }
      ]
    },
    {
      "cell_type": "code",
      "source": [
        "frutas.pop()\n",
        "frutas"
      ],
      "metadata": {
        "colab": {
          "base_uri": "https://localhost:8080/"
        },
        "id": "uZVoWFA1WM_u",
        "outputId": "659e51ac-8111-4efe-b80c-859597d44af7"
      },
      "execution_count": null,
      "outputs": [
        {
          "output_type": "execute_result",
          "data": {
            "text/plain": [
              "['maça', 'banana', 'laranja']"
            ]
          },
          "metadata": {},
          "execution_count": 32
        }
      ]
    },
    {
      "cell_type": "code",
      "source": [
        "frutas.pop(0)\n",
        "frutas"
      ],
      "metadata": {
        "colab": {
          "base_uri": "https://localhost:8080/"
        },
        "id": "JbSX4taxWU3O",
        "outputId": "d67edb70-546e-4f1f-957e-17002151d161"
      },
      "execution_count": null,
      "outputs": [
        {
          "output_type": "execute_result",
          "data": {
            "text/plain": [
              "['banana', 'laranja']"
            ]
          },
          "metadata": {},
          "execution_count": 33
        }
      ]
    },
    {
      "cell_type": "markdown",
      "source": [
        "alterando elementos"
      ],
      "metadata": {
        "id": "6KADHn3xWevI"
      }
    },
    {
      "cell_type": "code",
      "source": [
        "frutas[0]= 'pera'\n",
        "frutas"
      ],
      "metadata": {
        "colab": {
          "base_uri": "https://localhost:8080/"
        },
        "id": "wFAZVsm9Wgj3",
        "outputId": "858622a2-01b3-4704-915a-09c9517367ce"
      },
      "execution_count": null,
      "outputs": [
        {
          "output_type": "execute_result",
          "data": {
            "text/plain": [
              "['pera', 'banana', 'laranja']"
            ]
          },
          "metadata": {},
          "execution_count": 37
        }
      ]
    },
    {
      "cell_type": "markdown",
      "source": [
        "###tuplas"
      ],
      "metadata": {
        "id": "aDEDk2bhXMcZ"
      }
    },
    {
      "cell_type": "code",
      "source": [
        "marcas = 'gm', 'ford', 'fiat','vw'\n",
        "marcas"
      ],
      "metadata": {
        "colab": {
          "base_uri": "https://localhost:8080/"
        },
        "id": "fYpsdeYNXOdu",
        "outputId": "0bcf35bf-6e51-4bed-ab05-78985e188b35"
      },
      "execution_count": null,
      "outputs": [
        {
          "output_type": "execute_result",
          "data": {
            "text/plain": [
              "('gm', 'ford', 'fiat', 'vw')"
            ]
          },
          "metadata": {},
          "execution_count": 38
        }
      ]
    },
    {
      "cell_type": "code",
      "source": [
        "marcas[2]"
      ],
      "metadata": {
        "colab": {
          "base_uri": "https://localhost:8080/",
          "height": 35
        },
        "id": "1FwquUY9XjZV",
        "outputId": "2d2ae7bf-39d1-4975-e295-f8cb7b701298"
      },
      "execution_count": null,
      "outputs": [
        {
          "output_type": "execute_result",
          "data": {
            "text/plain": [
              "'fiat'"
            ],
            "application/vnd.google.colaboratory.intrinsic+json": {
              "type": "string"
            }
          },
          "metadata": {},
          "execution_count": 39
        }
      ]
    },
    {
      "cell_type": "markdown",
      "source": [
        "a diferença principal entre listas e tuplas é que os elememntos de tuplas não pode ser alterados"
      ],
      "metadata": {
        "id": "Xo63kQGtXweR"
      }
    },
    {
      "cell_type": "code",
      "source": [
        "marcas[0] = 'ferrari'"
      ],
      "metadata": {
        "colab": {
          "base_uri": "https://localhost:8080/",
          "height": 165
        },
        "id": "nKNNCbtEYC21",
        "outputId": "4aa0f247-eb89-45e1-fffb-c02ef35336f0"
      },
      "execution_count": null,
      "outputs": [
        {
          "output_type": "error",
          "ename": "TypeError",
          "evalue": "ignored",
          "traceback": [
            "\u001b[0;31m---------------------------------------------------------------------------\u001b[0m",
            "\u001b[0;31mTypeError\u001b[0m                                 Traceback (most recent call last)",
            "\u001b[0;32m<ipython-input-40-6e451b28c77b>\u001b[0m in \u001b[0;36m<module>\u001b[0;34m()\u001b[0m\n\u001b[0;32m----> 1\u001b[0;31m \u001b[0mmarcas\u001b[0m\u001b[0;34m[\u001b[0m\u001b[0;36m0\u001b[0m\u001b[0;34m]\u001b[0m \u001b[0;34m=\u001b[0m \u001b[0;34m'ferrari'\u001b[0m\u001b[0;34m\u001b[0m\u001b[0;34m\u001b[0m\u001b[0m\n\u001b[0m",
            "\u001b[0;31mTypeError\u001b[0m: 'tuple' object does not support item assignment"
          ]
        }
      ]
    },
    {
      "cell_type": "markdown",
      "source": [
        "###dicionários"
      ],
      "metadata": {
        "id": "Ggf3_PenYXZd"
      }
    },
    {
      "cell_type": "code",
      "source": [
        "notas = {'portugues':8, 'ingles':7.4, 'matematica':9}\n",
        "notas"
      ],
      "metadata": {
        "colab": {
          "base_uri": "https://localhost:8080/"
        },
        "id": "q2EBxPRKYeHV",
        "outputId": "549c9cd1-d9a5-427c-d35e-0373555b2657"
      },
      "execution_count": null,
      "outputs": [
        {
          "output_type": "execute_result",
          "data": {
            "text/plain": [
              "{'ingles': 7.4, 'matematica': 9, 'portugues': 8}"
            ]
          },
          "metadata": {},
          "execution_count": 41
        }
      ]
    },
    {
      "cell_type": "code",
      "source": [
        "pessoa = {'nome':'thais', 'idade':25, 'profissão':'pintor'}\n",
        "pessoa"
      ],
      "metadata": {
        "colab": {
          "base_uri": "https://localhost:8080/"
        },
        "id": "qSFrTw-ubsYT",
        "outputId": "572f96ce-135e-4c3e-b6d9-bc1b5d54d425"
      },
      "execution_count": null,
      "outputs": [
        {
          "output_type": "execute_result",
          "data": {
            "text/plain": [
              "{'idade': 25, 'nome': 'thais', 'profissão': 'pintor'}"
            ]
          },
          "metadata": {},
          "execution_count": 42
        }
      ]
    },
    {
      "cell_type": "code",
      "source": [
        "times = {1:'flamengo', 2:'são paulo', 3:'grémio'}\n",
        "times"
      ],
      "metadata": {
        "colab": {
          "base_uri": "https://localhost:8080/"
        },
        "id": "w2eEf4nQcUgi",
        "outputId": "51e4177e-f279-45a5-ae0f-93349d5ba07a"
      },
      "execution_count": null,
      "outputs": [
        {
          "output_type": "execute_result",
          "data": {
            "text/plain": [
              "{1: 'flamengo', 2: 'são paulo', 3: 'grémio'}"
            ]
          },
          "metadata": {},
          "execution_count": 43
        }
      ]
    },
    {
      "cell_type": "markdown",
      "source": [
        "Selecionando Elementos"
      ],
      "metadata": {
        "id": "LwI7-L4dc7n-"
      }
    },
    {
      "cell_type": "code",
      "source": [
        "notas ['ingles']"
      ],
      "metadata": {
        "colab": {
          "base_uri": "https://localhost:8080/"
        },
        "id": "vh0UDbOyc_zy",
        "outputId": "e9ea2818-491a-4d77-e016-47364f6eb6f9"
      },
      "execution_count": null,
      "outputs": [
        {
          "output_type": "execute_result",
          "data": {
            "text/plain": [
              "7.4"
            ]
          },
          "metadata": {},
          "execution_count": 44
        }
      ]
    },
    {
      "cell_type": "code",
      "source": [
        "notas ['matematica']"
      ],
      "metadata": {
        "colab": {
          "base_uri": "https://localhost:8080/"
        },
        "id": "9yvQXsgBdEoK",
        "outputId": "bece9aa2-23bf-436b-9fa4-644dc3a42d4b"
      },
      "execution_count": null,
      "outputs": [
        {
          "output_type": "execute_result",
          "data": {
            "text/plain": [
              "9"
            ]
          },
          "metadata": {},
          "execution_count": 45
        }
      ]
    },
    {
      "cell_type": "code",
      "source": [
        "pessoa['nome']"
      ],
      "metadata": {
        "colab": {
          "base_uri": "https://localhost:8080/",
          "height": 35
        },
        "id": "yISmg17bdYyC",
        "outputId": "e6f8a2d3-0d53-4bad-f414-d1412e81db23"
      },
      "execution_count": null,
      "outputs": [
        {
          "output_type": "execute_result",
          "data": {
            "text/plain": [
              "'thais'"
            ],
            "application/vnd.google.colaboratory.intrinsic+json": {
              "type": "string"
            }
          },
          "metadata": {},
          "execution_count": 46
        }
      ]
    },
    {
      "cell_type": "code",
      "source": [
        "times [1]"
      ],
      "metadata": {
        "colab": {
          "base_uri": "https://localhost:8080/",
          "height": 35
        },
        "id": "-9eLbURPdd8S",
        "outputId": "d0934ff7-7284-481a-9267-696b7f9c0fab"
      },
      "execution_count": null,
      "outputs": [
        {
          "output_type": "execute_result",
          "data": {
            "text/plain": [
              "'flamengo'"
            ],
            "application/vnd.google.colaboratory.intrinsic+json": {
              "type": "string"
            }
          },
          "metadata": {},
          "execution_count": 48
        }
      ]
    },
    {
      "cell_type": "code",
      "source": [
        "times[3]"
      ],
      "metadata": {
        "colab": {
          "base_uri": "https://localhost:8080/",
          "height": 35
        },
        "id": "YBXWf-8Qdj1i",
        "outputId": "826264b4-838e-454c-8f7b-10bf13b66ae4"
      },
      "execution_count": null,
      "outputs": [
        {
          "output_type": "execute_result",
          "data": {
            "text/plain": [
              "'grémio'"
            ],
            "application/vnd.google.colaboratory.intrinsic+json": {
              "type": "string"
            }
          },
          "metadata": {},
          "execution_count": 49
        }
      ]
    },
    {
      "cell_type": "markdown",
      "source": [
        "Alterando elementos"
      ],
      "metadata": {
        "id": "bVdQ7sXHdwhc"
      }
    },
    {
      "cell_type": "code",
      "source": [
        "notas ['matematica']= 10\n",
        "notas"
      ],
      "metadata": {
        "colab": {
          "base_uri": "https://localhost:8080/"
        },
        "id": "IE25UwhHd2La",
        "outputId": "6a2d805e-b524-4a6c-800c-42e44b8cc43e"
      },
      "execution_count": null,
      "outputs": [
        {
          "output_type": "execute_result",
          "data": {
            "text/plain": [
              "{'ingles': 7.4, 'matematica': 10, 'portugues': 8}"
            ]
          },
          "metadata": {},
          "execution_count": 50
        }
      ]
    },
    {
      "cell_type": "code",
      "source": [
        "times[2] = 'palmeiras não tem mundial'\n",
        "times"
      ],
      "metadata": {
        "colab": {
          "base_uri": "https://localhost:8080/"
        },
        "id": "05jXwCnHeA25",
        "outputId": "dcdb735d-3479-4cbc-d373-9b89e388a0ee"
      },
      "execution_count": null,
      "outputs": [
        {
          "output_type": "execute_result",
          "data": {
            "text/plain": [
              "{1: 'flamengo', 2: 'palmeiras não tem mundial', 3: 'grémio'}"
            ]
          },
          "metadata": {},
          "execution_count": 51
        }
      ]
    },
    {
      "cell_type": "markdown",
      "source": [
        "adicionando elementos"
      ],
      "metadata": {
        "id": "4aecQzZ4eSMs"
      }
    },
    {
      "cell_type": "code",
      "source": [
        "notas [\"geografia\"]=7.1\n",
        "notas"
      ],
      "metadata": {
        "colab": {
          "base_uri": "https://localhost:8080/"
        },
        "id": "EBsyhW5BeUyZ",
        "outputId": "d8b317ab-1b1a-4e38-ba1a-a31f66f6e425"
      },
      "execution_count": null,
      "outputs": [
        {
          "output_type": "execute_result",
          "data": {
            "text/plain": [
              "{'geografia': 7.1, 'ingles': 7.4, 'matematica': 10, 'portugues': 8}"
            ]
          },
          "metadata": {},
          "execution_count": 53
        }
      ]
    },
    {
      "cell_type": "code",
      "source": [
        "times[85] = 'vasco'\n",
        "times"
      ],
      "metadata": {
        "colab": {
          "base_uri": "https://localhost:8080/"
        },
        "id": "mv_tCSMOecj5",
        "outputId": "4c1116e4-57c5-47b0-9066-7b2a2e914850"
      },
      "execution_count": null,
      "outputs": [
        {
          "output_type": "execute_result",
          "data": {
            "text/plain": [
              "{1: 'flamengo', 2: 'palmeiras não tem mundial', 3: 'grémio', 85: 'vasco'}"
            ]
          },
          "metadata": {},
          "execution_count": 54
        }
      ]
    },
    {
      "cell_type": "markdown",
      "source": [
        "###If/Else"
      ],
      "metadata": {
        "id": "p4b3Xz83evCu"
      }
    },
    {
      "cell_type": "code",
      "source": [
        "x = 1\n",
        "y = 5"
      ],
      "metadata": {
        "id": "-nSHzpL4e3oo"
      },
      "execution_count": null,
      "outputs": []
    },
    {
      "cell_type": "markdown",
      "source": [
        "operaçoes lógicas "
      ],
      "metadata": {
        "id": "qT3Zc_4Pfv1k"
      }
    },
    {
      "cell_type": "code",
      "source": [
        "x == 1"
      ],
      "metadata": {
        "colab": {
          "base_uri": "https://localhost:8080/"
        },
        "id": "iYd2BGyMfyyQ",
        "outputId": "c05577d7-dd8a-458e-9ed7-7a6bcc84982f"
      },
      "execution_count": null,
      "outputs": [
        {
          "output_type": "execute_result",
          "data": {
            "text/plain": [
              "True"
            ]
          },
          "metadata": {},
          "execution_count": 57
        }
      ]
    },
    {
      "cell_type": "code",
      "source": [
        "x == 10"
      ],
      "metadata": {
        "colab": {
          "base_uri": "https://localhost:8080/"
        },
        "id": "kf4cBWGWf4NI",
        "outputId": "3701d86a-dc23-499e-b1a1-2889c8075324"
      },
      "execution_count": null,
      "outputs": [
        {
          "output_type": "execute_result",
          "data": {
            "text/plain": [
              "False"
            ]
          },
          "metadata": {},
          "execution_count": 58
        }
      ]
    },
    {
      "cell_type": "code",
      "source": [
        "x < 0"
      ],
      "metadata": {
        "colab": {
          "base_uri": "https://localhost:8080/"
        },
        "id": "IW7bVRRhgAZo",
        "outputId": "330a7de1-bd09-4715-d1d4-0fafd657a2ae"
      },
      "execution_count": null,
      "outputs": [
        {
          "output_type": "execute_result",
          "data": {
            "text/plain": [
              "False"
            ]
          },
          "metadata": {},
          "execution_count": 59
        }
      ]
    },
    {
      "cell_type": "code",
      "source": [
        "x >=  0"
      ],
      "metadata": {
        "colab": {
          "base_uri": "https://localhost:8080/"
        },
        "id": "xGMUYu-5gJiQ",
        "outputId": "a6b3c4ab-3b1e-475b-a5df-01f7edd7d748"
      },
      "execution_count": null,
      "outputs": [
        {
          "output_type": "execute_result",
          "data": {
            "text/plain": [
              "True"
            ]
          },
          "metadata": {},
          "execution_count": 60
        }
      ]
    },
    {
      "cell_type": "code",
      "source": [
        "x != 0"
      ],
      "metadata": {
        "colab": {
          "base_uri": "https://localhost:8080/"
        },
        "id": "EGmTHeMTgPEA",
        "outputId": "7b65a987-53ae-4f03-85eb-98d2085ac059"
      },
      "execution_count": null,
      "outputs": [
        {
          "output_type": "execute_result",
          "data": {
            "text/plain": [
              "True"
            ]
          },
          "metadata": {},
          "execution_count": 61
        }
      ]
    },
    {
      "cell_type": "code",
      "source": [
        "(x > 0 ) and (y< 2)"
      ],
      "metadata": {
        "colab": {
          "base_uri": "https://localhost:8080/"
        },
        "id": "cVMC80PqgUDQ",
        "outputId": "d00f1c7e-bfc1-4e5c-b96f-8b0841fe7d00"
      },
      "execution_count": null,
      "outputs": [
        {
          "output_type": "execute_result",
          "data": {
            "text/plain": [
              "False"
            ]
          },
          "metadata": {},
          "execution_count": 62
        }
      ]
    },
    {
      "cell_type": "code",
      "source": [
        "(x > -0) or ( y < 2 )"
      ],
      "metadata": {
        "colab": {
          "base_uri": "https://localhost:8080/"
        },
        "id": "h6mFjD34gdwY",
        "outputId": "551859a1-c04f-4b35-b5b0-e52271dbf504"
      },
      "execution_count": null,
      "outputs": [
        {
          "output_type": "execute_result",
          "data": {
            "text/plain": [
              "True"
            ]
          },
          "metadata": {},
          "execution_count": 63
        }
      ]
    },
    {
      "cell_type": "markdown",
      "source": [
        "identação obrigatória "
      ],
      "metadata": {
        "id": "pWBecV1Lgl3D"
      }
    },
    {
      "cell_type": "code",
      "source": [
        "x = 5 \n",
        "if (x > 0  ):\n",
        "  print(\" x é maior que zero\")\n",
        "print('oi')\n",
        "else :\n",
        "  print(\"x é menor ou igual a zero \")  "
      ],
      "metadata": {
        "colab": {
          "base_uri": "https://localhost:8080/",
          "height": 130
        },
        "id": "KwHjcpoPgsvY",
        "outputId": "f996941a-3d30-44f6-de95-a8b3f6f7b5c8"
      },
      "execution_count": null,
      "outputs": [
        {
          "output_type": "error",
          "ename": "SyntaxError",
          "evalue": "ignored",
          "traceback": [
            "\u001b[0;36m  File \u001b[0;32m\"<ipython-input-66-d89f2534d985>\"\u001b[0;36m, line \u001b[0;32m5\u001b[0m\n\u001b[0;31m    else :\u001b[0m\n\u001b[0m       ^\u001b[0m\n\u001b[0;31mSyntaxError\u001b[0m\u001b[0;31m:\u001b[0m invalid syntax\n"
          ]
        }
      ]
    },
    {
      "cell_type": "code",
      "source": [
        "x = 5 \n",
        "if (x > 0  ):\n",
        "  print(\" x é maior que zero\")\n",
        "  print('oi')\n",
        "else :\n",
        "  print(\"x é menor ou igual a zero \")  "
      ],
      "metadata": {
        "colab": {
          "base_uri": "https://localhost:8080/"
        },
        "id": "wTHxLpWkhXx-",
        "outputId": "23150cd4-7691-40b3-de6c-06986fea0e29"
      },
      "execution_count": null,
      "outputs": [
        {
          "output_type": "stream",
          "name": "stdout",
          "text": [
            " x é maior que zero\n",
            "oi\n"
          ]
        }
      ]
    },
    {
      "cell_type": "code",
      "source": [
        "x = 5\n",
        "if (x > 0  ):\n",
        "  print(\" x é maior que zero\")\n",
        "elif ( x == 0 ):  \n",
        "  print('x é zero')\n",
        "else :\n",
        "  print(\"x é menor ou igual a zero \")  "
      ],
      "metadata": {
        "colab": {
          "base_uri": "https://localhost:8080/"
        },
        "id": "ug5mtVdLhmzY",
        "outputId": "62ea8e1d-16d4-441c-e696-9d99e457326b"
      },
      "execution_count": null,
      "outputs": [
        {
          "output_type": "stream",
          "name": "stdout",
          "text": [
            " x é maior que zero\n"
          ]
        }
      ]
    },
    {
      "cell_type": "code",
      "source": [
        "x = -12\n",
        "if (x > 0  ):\n",
        "  print(\" x é maior que zero\")\n",
        "elif ( x == 0 ):  \n",
        "  print('x é zero')\n",
        "else :\n",
        "  print(\"x é menor  \")  "
      ],
      "metadata": {
        "colab": {
          "base_uri": "https://localhost:8080/"
        },
        "id": "wUtOWKJliLLX",
        "outputId": "cca9f356-7f25-49d3-c636-b091f3a4ea73"
      },
      "execution_count": null,
      "outputs": [
        {
          "output_type": "stream",
          "name": "stdout",
          "text": [
            "x é menor  \n"
          ]
        }
      ]
    },
    {
      "cell_type": "markdown",
      "source": [
        "### For"
      ],
      "metadata": {
        "id": "v0FR4SyJjQb5"
      }
    },
    {
      "cell_type": "code",
      "source": [
        "contador = [0,1,2,3,4,5,6,7,8,9 ]\n",
        "contador"
      ],
      "metadata": {
        "colab": {
          "base_uri": "https://localhost:8080/"
        },
        "id": "5VT-UPUzjTNt",
        "outputId": "6b9f1e28-ab51-4587-c9b2-63e7eb0d411f"
      },
      "execution_count": null,
      "outputs": [
        {
          "output_type": "execute_result",
          "data": {
            "text/plain": [
              "[0, 1, 2, 3, 4, 5, 6, 7, 8, 9]"
            ]
          },
          "metadata": {},
          "execution_count": 76
        }
      ]
    },
    {
      "cell_type": "code",
      "source": [
        "for valor in contador:\n",
        "  print(valor)"
      ],
      "metadata": {
        "colab": {
          "base_uri": "https://localhost:8080/"
        },
        "id": "Fmx2DHWEkqEd",
        "outputId": "9c94d0a2-d7b1-4713-d2ab-4b28672c9675"
      },
      "execution_count": null,
      "outputs": [
        {
          "output_type": "stream",
          "name": "stdout",
          "text": [
            "0\n",
            "1\n",
            "2\n",
            "3\n",
            "4\n",
            "5\n",
            "6\n",
            "7\n",
            "8\n",
            "9\n"
          ]
        }
      ]
    },
    {
      "cell_type": "code",
      "source": [
        "range?"
      ],
      "metadata": {
        "id": "pKDSX2KTk5Xd"
      },
      "execution_count": null,
      "outputs": []
    },
    {
      "cell_type": "code",
      "source": [
        "for valor in range(10):\n",
        "  print(valor)"
      ],
      "metadata": {
        "colab": {
          "base_uri": "https://localhost:8080/"
        },
        "id": "mnzdM5iglBG1",
        "outputId": "0b705bfe-d241-476a-da9d-c72bcf683a11"
      },
      "execution_count": null,
      "outputs": [
        {
          "output_type": "stream",
          "name": "stdout",
          "text": [
            "0\n",
            "1\n",
            "2\n",
            "3\n",
            "4\n",
            "5\n",
            "6\n",
            "7\n",
            "8\n",
            "9\n"
          ]
        }
      ]
    },
    {
      "cell_type": "code",
      "source": [
        "for i in range(4, 18 , 2 ):\n",
        "  print(i)"
      ],
      "metadata": {
        "colab": {
          "base_uri": "https://localhost:8080/"
        },
        "id": "61FRk_bQlX8E",
        "outputId": "1b4197bd-14aa-47a0-c9f1-d411f3ddf3a1"
      },
      "execution_count": null,
      "outputs": [
        {
          "output_type": "stream",
          "name": "stdout",
          "text": [
            "4\n",
            "6\n",
            "8\n",
            "10\n",
            "12\n",
            "14\n",
            "16\n"
          ]
        }
      ]
    },
    {
      "cell_type": "code",
      "source": [
        "cidades = ['São Paulo', 'Brasilia','Curitiba']\n",
        "cidades"
      ],
      "metadata": {
        "colab": {
          "base_uri": "https://localhost:8080/"
        },
        "id": "7-IjHHbllnpM",
        "outputId": "b9a0b99c-8e85-4774-8ebd-5cbd99c70c21"
      },
      "execution_count": null,
      "outputs": [
        {
          "output_type": "execute_result",
          "data": {
            "text/plain": [
              "['São Paulo', 'Brasilia', 'Curitiba']"
            ]
          },
          "metadata": {},
          "execution_count": 82
        }
      ]
    },
    {
      "cell_type": "code",
      "source": [
        "for cidade in cidades: \n",
        "   print(' ja morei em '+ cidade)"
      ],
      "metadata": {
        "colab": {
          "base_uri": "https://localhost:8080/"
        },
        "id": "NqxvoqXemFVs",
        "outputId": "0f74948d-ec7f-4cdc-98cf-47981c9a13bd"
      },
      "execution_count": null,
      "outputs": [
        {
          "output_type": "stream",
          "name": "stdout",
          "text": [
            " ja morei em São Paulo\n",
            " ja morei em Brasilia\n",
            " ja morei em Curitiba\n"
          ]
        }
      ]
    },
    {
      "cell_type": "code",
      "source": [
        "minha_lista = [1,2,3,'cachorro','gato','papagaio']\n",
        "minha_lista"
      ],
      "metadata": {
        "colab": {
          "base_uri": "https://localhost:8080/"
        },
        "id": "HC8UoFnGmRkM",
        "outputId": "ef064cb2-029d-4fd7-f381-8b9f6e6287e8"
      },
      "execution_count": null,
      "outputs": [
        {
          "output_type": "execute_result",
          "data": {
            "text/plain": [
              "[1, 2, 3, 'cachorro', 'gato', 'papagaio']"
            ]
          },
          "metadata": {},
          "execution_count": 87
        }
      ]
    },
    {
      "cell_type": "code",
      "source": [
        "for cada_item in minha_lista:\n",
        "  print(cada_item)"
      ],
      "metadata": {
        "colab": {
          "base_uri": "https://localhost:8080/"
        },
        "id": "LD11B3i6m_wD",
        "outputId": "7a9cb798-c6f4-4909-ff6b-7587b434e98b"
      },
      "execution_count": null,
      "outputs": [
        {
          "output_type": "stream",
          "name": "stdout",
          "text": [
            "1\n",
            "2\n",
            "3\n",
            "cachorro\n",
            "gato\n",
            "papagaio\n"
          ]
        }
      ]
    },
    {
      "cell_type": "markdown",
      "source": [
        "###While"
      ],
      "metadata": {
        "id": "fzNby5kunZFG"
      }
    },
    {
      "cell_type": "code",
      "source": [
        "x = 0 \n",
        "while x <  5:\n",
        "  print(x)\n",
        "  x = x + 1"
      ],
      "metadata": {
        "colab": {
          "base_uri": "https://localhost:8080/"
        },
        "id": "0dYQe7mYncNr",
        "outputId": "6cc41e76-95a2-421c-a51f-6adc0ac27771"
      },
      "execution_count": null,
      "outputs": [
        {
          "output_type": "stream",
          "name": "stdout",
          "text": [
            "0\n",
            "1\n",
            "2\n",
            "3\n",
            "4\n"
          ]
        }
      ]
    },
    {
      "cell_type": "markdown",
      "source": [
        "###List Comprehensions"
      ],
      "metadata": {
        "id": "EeX4cuX1nyVG"
      }
    },
    {
      "cell_type": "code",
      "source": [
        "quadrados = []\n",
        "for numero in range(10):\n",
        "  quadrados.append(numero**2)\n",
        "\n",
        "quadrados"
      ],
      "metadata": {
        "colab": {
          "base_uri": "https://localhost:8080/"
        },
        "id": "vowV6G2Jn90K",
        "outputId": "7abee892-3ed8-4047-d10c-72408d829d84"
      },
      "execution_count": null,
      "outputs": [
        {
          "output_type": "execute_result",
          "data": {
            "text/plain": [
              "[0, 1, 4, 9, 16, 25, 36, 49, 64, 81]"
            ]
          },
          "metadata": {},
          "execution_count": 91
        }
      ]
    },
    {
      "cell_type": "markdown",
      "source": [
        "forma mais concisa de criar listas "
      ],
      "metadata": {
        "id": "0yCx_pBKoqcO"
      }
    },
    {
      "cell_type": "code",
      "source": [
        "quad = [x**2 for x in range(10)]\n",
        "quad"
      ],
      "metadata": {
        "colab": {
          "base_uri": "https://localhost:8080/"
        },
        "id": "JHbhtNH8ownK",
        "outputId": "0688eefb-c929-4e19-aa7e-1f48dca76ef5"
      },
      "execution_count": null,
      "outputs": [
        {
          "output_type": "execute_result",
          "data": {
            "text/plain": [
              "[0, 1, 4, 9, 16, 25, 36, 49, 64, 81]"
            ]
          },
          "metadata": {},
          "execution_count": 93
        }
      ]
    },
    {
      "cell_type": "markdown",
      "source": [
        "###Funções"
      ],
      "metadata": {
        "id": "xfXsOHGbpKbe"
      }
    },
    {
      "cell_type": "markdown",
      "source": [
        "funões que não retornam valor "
      ],
      "metadata": {
        "id": "ZrwR27wIpP0F"
      }
    },
    {
      "cell_type": "code",
      "source": [
        "def exibir_mensagem(parametro):\n",
        "  print('mensagem :>>> ' + parametro)"
      ],
      "metadata": {
        "id": "Pc5MKyNkpaHq"
      },
      "execution_count": null,
      "outputs": []
    },
    {
      "cell_type": "code",
      "source": [
        "exibir_mensagem('olá!!!')"
      ],
      "metadata": {
        "colab": {
          "base_uri": "https://localhost:8080/"
        },
        "id": "od0ZaM8hp0d5",
        "outputId": "3c21647e-23e8-4685-f493-f150751c2d8e"
      },
      "execution_count": null,
      "outputs": [
        {
          "output_type": "stream",
          "name": "stdout",
          "text": [
            "mensagem :>>> olá!!!\n"
          ]
        }
      ]
    },
    {
      "cell_type": "code",
      "source": [
        "exibir_mensagem('olá mundo !')"
      ],
      "metadata": {
        "colab": {
          "base_uri": "https://localhost:8080/"
        },
        "id": "Dvv_RMstqIXI",
        "outputId": "f27c3dee-6829-4894-a313-a9332c8dadce"
      },
      "execution_count": null,
      "outputs": [
        {
          "output_type": "stream",
          "name": "stdout",
          "text": [
            "mensagem :>>> olá mundo !\n"
          ]
        }
      ]
    },
    {
      "cell_type": "code",
      "source": [
        "def exibir_dados(nome, idade):\n",
        "  print('meu nome é {}'.format(nome))\n",
        "  print('tenho {} anos.'.format(idade))"
      ],
      "metadata": {
        "id": "WbnwhcpkqQgR"
      },
      "execution_count": null,
      "outputs": []
    },
    {
      "cell_type": "code",
      "source": [
        "exibir_dados('Maria', 70)"
      ],
      "metadata": {
        "colab": {
          "base_uri": "https://localhost:8080/"
        },
        "id": "zA1CuDDpqxDg",
        "outputId": "348f593e-d39b-420d-fa52-e7e79ea070ec"
      },
      "execution_count": null,
      "outputs": [
        {
          "output_type": "stream",
          "name": "stdout",
          "text": [
            "meu nome é Maria\n",
            "tenho 70anos.\n"
          ]
        }
      ]
    },
    {
      "cell_type": "code",
      "source": [
        "exibir_dados('paulo', 20)"
      ],
      "metadata": {
        "colab": {
          "base_uri": "https://localhost:8080/"
        },
        "id": "W5scEGxmq8IY",
        "outputId": "0874e796-85b9-4d68-8d4c-f4337ca704c6"
      },
      "execution_count": null,
      "outputs": [
        {
          "output_type": "stream",
          "name": "stdout",
          "text": [
            "meu nome é paulo\n",
            "tenho 20 anos.\n"
          ]
        }
      ]
    },
    {
      "cell_type": "markdown",
      "source": [
        "Funçao que retorna valor"
      ],
      "metadata": {
        "id": "MTxAQytErYV-"
      }
    },
    {
      "cell_type": "code",
      "source": [
        "def elevar_ao_quarado(numero):\n",
        "  return numero ** 2"
      ],
      "metadata": {
        "id": "Rba5BXqSrpDY"
      },
      "execution_count": null,
      "outputs": []
    },
    {
      "cell_type": "code",
      "source": [
        "elevar_ao_quarado(2)"
      ],
      "metadata": {
        "colab": {
          "base_uri": "https://localhost:8080/"
        },
        "id": "ap1uwuJ-sQs_",
        "outputId": "df0d32aa-9a99-4a03-9c32-aedfbc1b3923"
      },
      "execution_count": null,
      "outputs": [
        {
          "output_type": "execute_result",
          "data": {
            "text/plain": [
              "4"
            ]
          },
          "metadata": {},
          "execution_count": 111
        }
      ]
    },
    {
      "cell_type": "code",
      "source": [
        "elevar_ao_quarado(25)"
      ],
      "metadata": {
        "colab": {
          "base_uri": "https://localhost:8080/"
        },
        "id": "5A_VSe3zsiVY",
        "outputId": "9e01fa63-2715-4fc5-e40f-dc28760d0532"
      },
      "execution_count": null,
      "outputs": [
        {
          "output_type": "execute_result",
          "data": {
            "text/plain": [
              "625"
            ]
          },
          "metadata": {},
          "execution_count": 112
        }
      ]
    },
    {
      "cell_type": "code",
      "source": [
        ""
      ],
      "metadata": {
        "id": "k-_efXHSslmI"
      },
      "execution_count": null,
      "outputs": []
    }
  ]
}